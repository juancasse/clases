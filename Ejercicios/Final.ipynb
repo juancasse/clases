{
 "cells": [
  {
   "cell_type": "code",
   "execution_count": 36,
   "metadata": {},
   "outputs": [],
   "source": [
    "import numpy as np\n",
    "from scipy.stats import betaprime, norm\n",
    "%matplotlib tk\n",
    "import matplotlib.pyplot as plt\n",
    "import random\n",
    "import matplotlib.animation as animation"
   ]
  },
  {
   "cell_type": "code",
   "execution_count": 37,
   "metadata": {},
   "outputs": [],
   "source": [
    "def detector(t, t0, sigma, omega):\n",
    "    A = 1 / (sigma * np.sqrt(2 * np.pi))\n",
    "    pulse = A * np.exp(-(t - t0) ** 2 / (2 * sigma ** 2)) * np.cos(omega * (t - t0 + sigma))\n",
    "    return pulse\n",
    "\n",
    "def gaussian(mean, sigma):\n",
    "    return np.random.normal(mean, sigma)\n",
    "\n",
    "def beta_prime(t0, sigma):\n",
    "    #\n",
    "    a, b = 4, 2\n",
    "    x = betaprime.rvs(a, b, size=1)[0]\n",
    "    return t0 + (x - 0.5) * sigma"
   ]
  },
  {
   "cell_type": "code",
   "execution_count": 38,
   "metadata": {},
   "outputs": [],
   "source": [
    "# Parámetros de los picos\n",
    "t0s = [1.8, 2.8, 5]\n",
    "p = [0.3, 0.1, 0.6]\n",
    "\n",
    "\n",
    "# Ruido de la medición\n",
    "t = np.linspace(0, 10, 1000)\n"
   ]
  },
  {
   "cell_type": "code",
   "execution_count": 39,
   "metadata": {},
   "outputs": [],
   "source": [
    "# Señal completa\n",
    "def senialcomp():\n",
    "    sigmas = [gaussian(0.05, 0.005) for _ in range(3)]\n",
    "    omegas = [gaussian(5 * np.pi, 0.05) for _ in range(3)]\n",
    "    absolute_noise = np.random.normal(0, 0.02, size=1000)\n",
    "    relative_noise = np.random.normal(1, 0.01, size=1000)\n",
    "    signal = np.zeros_like(t)\n",
    "    for i, t_i in enumerate(t):\n",
    "        for t0, sigma, omega, prob in zip(t0s, sigmas, omegas, p):\n",
    "            if random.random() < prob:\n",
    "                signal[i] += detector(t_i, beta_prime(t0, 5), sigma, omega)\n",
    "        signal[i] *= relative_noise[i]\n",
    "        signal[i] += absolute_noise[i]\n",
    "        signal[i] += (-t_i + 2) / 100\n",
    "    return signal\n",
    "\n",
    "# Animación\n",
    "fig, ax = plt.subplots()\n",
    "ax.set_xlim(0, 6)\n",
    "ax.set_ylim(-0.5, 1.5)\n",
    "#line, = ax.plot(t[0], signal[0], lw=2)\n",
    "line, = plt.plot([], [])\n",
    "#def init():\n",
    "#    line.set_data([], [])\n",
    " #   return line,\n",
    "\n",
    "def animate(i,L):\n",
    "    sig=senialcomp()\n",
    "    #line.set_data(t[:i], signal[:i])\n",
    "    L.set_data(t, sig)\n",
    "    return L,\n",
    "\n",
    "repeticiones=100\n",
    "animacion=animation.FuncAnimation(fig, animate,repeticiones,fargs=(line,), interval=500, blit=True)\n",
    "plt.show()"
   ]
  },
  {
   "cell_type": "code",
   "execution_count": 40,
   "metadata": {},
   "outputs": [
    {
     "ename": "NameError",
     "evalue": "name 'pulse' is not defined",
     "output_type": "error",
     "traceback": [
      "\u001b[1;31m---------------------------------------------------------------------------\u001b[0m",
      "\u001b[1;31mNameError\u001b[0m                                 Traceback (most recent call last)",
      "\u001b[1;32m~\\AppData\\Local\\Temp\\ipykernel_6440\\1408124391.py\u001b[0m in \u001b[0;36m<module>\u001b[1;34m\u001b[0m\n\u001b[1;32m----> 1\u001b[1;33m \u001b[0mplt\u001b[0m\u001b[1;33m.\u001b[0m\u001b[0mplot\u001b[0m\u001b[1;33m(\u001b[0m\u001b[0mt\u001b[0m\u001b[1;33m,\u001b[0m\u001b[0mpulse\u001b[0m\u001b[1;33m)\u001b[0m\u001b[1;33m\u001b[0m\u001b[1;33m\u001b[0m\u001b[0m\n\u001b[0m",
      "\u001b[1;31mNameError\u001b[0m: name 'pulse' is not defined"
     ]
    }
   ],
   "source": [
    "\n",
    "plt.plot(t,pulse)"
   ]
  },
  {
   "cell_type": "code",
   "execution_count": null,
   "metadata": {},
   "outputs": [],
   "source": []
  }
 ],
 "metadata": {
  "kernelspec": {
   "display_name": "base",
   "language": "python",
   "name": "python3"
  },
  "language_info": {
   "codemirror_mode": {
    "name": "ipython",
    "version": 3
   },
   "file_extension": ".py",
   "mimetype": "text/x-python",
   "name": "python",
   "nbconvert_exporter": "python",
   "pygments_lexer": "ipython3",
   "version": "3.9.13"
  },
  "orig_nbformat": 4
 },
 "nbformat": 4,
 "nbformat_minor": 2
}
