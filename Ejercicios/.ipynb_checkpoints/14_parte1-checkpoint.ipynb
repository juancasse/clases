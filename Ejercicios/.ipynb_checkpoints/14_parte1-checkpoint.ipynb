{
 "cells": [
  {
   "cell_type": "markdown",
   "id": "2e032afd",
   "metadata": {},
   "source": [
    "Es el ejercicio 8.5"
   ]
  },
  {
   "cell_type": "code",
   "execution_count": 29,
   "id": "27935507",
   "metadata": {},
   "outputs": [],
   "source": [
    "import numpy as np\n",
    "from math import sqrt"
   ]
  },
  {
   "cell_type": "code",
   "execution_count": 49,
   "id": "98a81a93",
   "metadata": {},
   "outputs": [],
   "source": [
    "def caida(h0=10,v0=0,g=-9.8,puntos=10):\n",
    "    ttot=(v0+sqrt(v0**2-2*g*h0))/g\n",
    "    t=np.linspace(0,ttot,puntos)\n",
    "    h=h0+v0*t+0.5*g*t*t\n",
    "    v=v0+g*t\n",
    "    \n",
    "    return h,v"
   ]
  },
  {
   "cell_type": "code",
   "execution_count": 45,
   "id": "a614d4e8",
   "metadata": {},
   "outputs": [
    {
     "data": {
      "text/plain": [
       "-0.019555568991704023"
      ]
     },
     "execution_count": 45,
     "metadata": {},
     "output_type": "execute_result"
    }
   ],
   "source": [
    "(-10+sqrt(-10**2-2*(-9.81)*10))/9.81"
   ]
  },
  {
   "cell_type": "code",
   "execution_count": 39,
   "id": "fe2d0e6f",
   "metadata": {},
   "outputs": [],
   "source": [
    "tiempos=np.linspace(0,1.5,21)"
   ]
  },
  {
   "cell_type": "code",
   "execution_count": 40,
   "id": "4f40db89",
   "metadata": {},
   "outputs": [
    {
     "data": {
      "text/plain": [
       "array([0.   , 0.075, 0.15 , 0.225, 0.3  , 0.375, 0.45 , 0.525, 0.6  ,\n",
       "       0.675, 0.75 , 0.825, 0.9  , 0.975, 1.05 , 1.125, 1.2  , 1.275,\n",
       "       1.35 , 1.425, 1.5  ])"
      ]
     },
     "execution_count": 40,
     "metadata": {},
     "output_type": "execute_result"
    }
   ],
   "source": [
    "tiempos\n"
   ]
  },
  {
   "cell_type": "code",
   "execution_count": 50,
   "id": "b2746d52",
   "metadata": {},
   "outputs": [
    {
     "data": {
      "text/plain": [
       "(array([1.00000000e+01, 9.87654321e+00, 9.50617284e+00, 8.88888889e+00,\n",
       "        8.02469136e+00, 6.91358025e+00, 5.55555556e+00, 3.95061728e+00,\n",
       "        2.09876543e+00, 1.77635684e-15]),\n",
       " array([ 0.        ,  1.55555556,  3.11111111,  4.66666667,  6.22222222,\n",
       "         7.77777778,  9.33333333, 10.88888889, 12.44444444, 14.        ]))"
      ]
     },
     "execution_count": 50,
     "metadata": {},
     "output_type": "execute_result"
    }
   ],
   "source": [
    "caida()"
   ]
  },
  {
   "cell_type": "code",
   "execution_count": null,
   "id": "87fe293a",
   "metadata": {},
   "outputs": [],
   "source": []
  }
 ],
 "metadata": {
  "kernelspec": {
   "display_name": "Python 3 (ipykernel)",
   "language": "python",
   "name": "python3"
  },
  "language_info": {
   "codemirror_mode": {
    "name": "ipython",
    "version": 3
   },
   "file_extension": ".py",
   "mimetype": "text/x-python",
   "name": "python",
   "nbconvert_exporter": "python",
   "pygments_lexer": "ipython3",
   "version": "3.9.13"
  }
 },
 "nbformat": 4,
 "nbformat_minor": 5
}
