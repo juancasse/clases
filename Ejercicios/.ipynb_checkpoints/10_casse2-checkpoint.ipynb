{
 "cells": [
  {
   "cell_type": "code",
   "execution_count": null,
   "metadata": {},
   "outputs": [],
   "source": [
    "import numpy as np\n",
    "import matplotlib.pyplot as plt"
   ]
  },
  {
   "cell_type": "markdown",
   "metadata": {},
   "source": [
    "Calculo PI con el metodo del círculo"
   ]
  },
  {
   "cell_type": "code",
   "execution_count": null,
   "metadata": {},
   "outputs": [],
   "source": [
    "def pi_circ(num_puntos=10000):\n",
    "    puntos = np.random.random((num_puntos, 2))\n",
    "    distancias = np.sum(puntos ** 2, axis=1)\n",
    "    num_puntos_circulo = np.sum(distancias <= 1)\n",
    "    pi = 4 * num_puntos_circulo / num_puntos\n",
    "    return pi"
   ]
  },
  {
   "cell_type": "markdown",
   "metadata": {},
   "source": [
    "Calculo PI con el metodo de valor medio"
   ]
  },
  {
   "cell_type": "code",
   "execution_count": null,
   "metadata": {},
   "outputs": [],
   "source": [
    "def pi_med(num_puntos=10000):\n",
    "    puntos = np.random.random(num_puntos)\n",
    "    f_puntos = np.sqrt(1 - puntos**2)\n",
    "    pi = 4 * f_puntos.mean()\n",
    "    return pi"
   ]
  },
  {
   "cell_type": "code",
   "execution_count": null,
   "metadata": {},
   "outputs": [],
   "source": [
    "x=np.logspace(2,4.2,20,dtype=\"int\")"
   ]
  },
  {
   "cell_type": "code",
   "execution_count": null,
   "metadata": {},
   "outputs": [],
   "source": [
    "pc=np.array([pi_circ(y) for y in x])\n",
    "pm=np.array([pi_med(y) for y in x])    "
   ]
  },
  {
   "cell_type": "code",
   "execution_count": null,
   "metadata": {
    "scrolled": true
   },
   "outputs": [],
   "source": [
    "plt.plot(x,pc,\"-\", label=\"Método de cociente de áreas\", linewidth=2)\n",
    "plt.plot(x,pc,\"hb\")\n",
    "plt.plot(x,pm, \"--r\", label= \"Método de valor medio\",linewidth=3)\n",
    "plt.plot(x,pm,\"or\")\n",
    "plt.legend(loc=\"best\", title=\"Referencias\")\n",
    "plt.xscale('log')\n",
    "plt.ylim((2,4))\n",
    "plt.xlabel(\"Nro de muestras\")\n",
    "plt.ylabel(\"Estimación de Pi\")\n",
    "plt.show()"
   ]
  },
  {
   "cell_type": "code",
   "execution_count": null,
   "metadata": {},
   "outputs": [],
   "source": [
    "hpc=np.array([pi_circ(15000) for i in np.arange(1000)])\n",
    "hpm=np.array([pi_med(15000) for i in np.arange(1000)])   "
   ]
  },
  {
   "cell_type": "code",
   "execution_count": null,
   "metadata": {},
   "outputs": [],
   "source": [
    "plt.hist(hpm, density=True, bins=30,color=\"red\", label=\"Método de valor medio\")\n",
    "plt.hist(hpc, density=True, bins=30, color=\"blue\", label=\"Método de cociente de áreas\",alpha=0.8)\n",
    "plt.axvline(x=np.mean(hpm), color='black')\n",
    "plt.legend(loc=\"best\", title=\"Referencias\")\n",
    "plt.xlim(3.0,3.2)\n",
    "\n",
    "# Calcular la desviación estándar y superponer una función Gaussiana\n",
    "std_m = np.std(hpm)\n",
    "mu_m = np.mean(hpm)\n",
    "x = np.linspace(mu_m - 4*std_m, mu_m + 4*std_m, 1000)\n",
    "y = 1/(np.sqrt(2*np.pi)*std_m) * np.exp(-(x - mu_m)**2/(2*std_m**2))\n",
    "plt.plot(x, y, color='black',linewidth=2,alpha=0.9)\n",
    "\n",
    "std_c = np.std(hpc)\n",
    "mu_c = np.mean(hpc)\n",
    "x = np.linspace(mu_c - 4*std_c, mu_c + 4*std_c, 1000)\n",
    "y = 1/(np.sqrt(2*np.pi)*std_c) * np.exp(-(x - mu_c)**2/(2*std_c**2))\n",
    "plt.plot(x, y, color='black',linewidth=2,alpha=0.9)\n",
    "plt.show()"
   ]
  },
  {
   "cell_type": "code",
   "execution_count": null,
   "metadata": {},
   "outputs": [],
   "source": []
  }
 ],
 "metadata": {
  "kernelspec": {
   "display_name": "Python 3 (ipykernel)",
   "language": "python",
   "name": "python3"
  },
  "language_info": {
   "codemirror_mode": {
    "name": "ipython",
    "version": 3
   },
   "file_extension": ".py",
   "mimetype": "text/x-python",
   "name": "python",
   "nbconvert_exporter": "python",
   "pygments_lexer": "ipython3",
   "version": "3.9.13"
  }
 },
 "nbformat": 4,
 "nbformat_minor": 2
}
