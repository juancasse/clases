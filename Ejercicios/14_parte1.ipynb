{
 "cells": [
  {
   "cell_type": "markdown",
   "id": "2e032afd",
   "metadata": {},
   "source": [
    "Es el ejercicio 8.5"
   ]
  },
  {
   "cell_type": "code",
   "execution_count": 1,
   "id": "d28043b2",
   "metadata": {},
   "outputs": [],
   "source": [
    "import numpy as np\n",
    "from math import sqrt\n",
    "%matplotlib tk\n",
    "import matplotlib.pyplot as plt\n",
    "import matplotlib.animation as animation\n"
   ]
  },
  {
   "cell_type": "code",
   "execution_count": 2,
   "id": "98a81a93",
   "metadata": {},
   "outputs": [],
   "source": [
    "def caida(h0=10,v0=0,grav=-1,puntos=20):\n",
    "    \"\"\"\n",
    "    Modificación del ejercicio 8\n",
    "    Ingresando altura inicial, velocidad inicial, valor de gravedad y cantidad de puntos,\n",
    "    devuelve tiempo, altura y velocidad en formato de array de Numpy.\n",
    "    No guarda los datos generados en archivo\n",
    "    \n",
    "    \"\"\"\n",
    "    ttot=(-v0-sqrt(v0*v0-2*grav*h0))/grav\n",
    "    t=np.linspace(0,ttot,puntos)\n",
    "    h=h0+v0*t+0.5*grav*t**2\n",
    "    v=v0+grav*t\n",
    "    #datos=np.column_stack((t,v,h))\n",
    "    #header=\"t, v(t), h(t))\"\n",
    "    #archivo=f\"caida_{v0}_{h0}.dat\"\n",
    "    #np.savetxt(archivo, datos, delimiter=',', header=header)\n",
    "    return t,h,v"
   ]
  },
  {
   "cell_type": "code",
   "execution_count": 14,
   "id": "dbcc9c3a",
   "metadata": {
    "scrolled": false
   },
   "outputs": [],
   "source": [
    "#defino parámetros iniciales de la funcion caida\n",
    "h0, v0, g,pts=100,0, -9.8, 50\n",
    "\n",
    "#Genero los datos para graficar\n",
    "t, h, v=caida(h0,v0,g,pts)\n",
    "mh=max(h)\n",
    "\n",
    "#Para generar cola fantasma de 3 puntos\n",
    "for i in range(5):\n",
    "    t=np.append(t,t[-1])\n",
    "    h=np.append(h,h[-1])\n",
    "    v=np.append(v,v[-1])\n",
    "    pts+=1\n",
    "    \n",
    "#Completo los valores en X que va a tomar la gráfica, en este caso todos cero\n",
    "x=np.zeros(pts)\n",
    "\n",
    "#funcion de actualizacion\n",
    "def actualizar(pos,x, t,v, h, line):\n",
    "    if pos>5:\n",
    "        line.set_data(x[pos-4:pos],h[pos-4:pos])\n",
    "    else:\n",
    "        line.set_data(x[pos],h[pos])\n",
    "    #Actualizo los valores mostrados de tiempo, velocidad y altura\n",
    "    t1.set_text(\"Tiempo:     {:.3f}\\nVelocidad: {:.3f}\\nAltura:       {:.1f}\".format(t[pos],v[pos],h[pos]))\n",
    "    return line,t1\n",
    "\n",
    "#creo figura,ejes y la gráfica\n",
    "fig, ax = plt.subplots()\n",
    "punto,= plt.plot([], [], 'ro')\n",
    "\n",
    "#Delimito ejes\n",
    "ax.set_xlim(-1, 1)\n",
    "ax.set_ylim(0, mh)\n",
    "#Título y texto con valores\n",
    "ax.set_title('Animación de caida libre')\n",
    "t1= ax.text(0.2,mh*.8,\"cargando...\")\n",
    "\n",
    "#Creo animacion\n",
    "animacion=animation.FuncAnimation(fig, actualizar, pts, fargs=(x,t,v,h, punto), interval=70, blit=True)\n",
    "plt.show()"
   ]
  },
  {
   "cell_type": "code",
   "execution_count": null,
   "id": "ef9b7a4f",
   "metadata": {},
   "outputs": [],
   "source": []
  }
 ],
 "metadata": {
  "kernelspec": {
   "display_name": "Python 3 (ipykernel)",
   "language": "python",
   "name": "python3"
  },
  "language_info": {
   "codemirror_mode": {
    "name": "ipython",
    "version": 3
   },
   "file_extension": ".py",
   "mimetype": "text/x-python",
   "name": "python",
   "nbconvert_exporter": "python",
   "pygments_lexer": "ipython3",
   "version": "3.9.13"
  }
 },
 "nbformat": 4,
 "nbformat_minor": 5
}
