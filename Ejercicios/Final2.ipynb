{
 "cells": [
  {
   "cell_type": "code",
   "execution_count": 148,
   "metadata": {},
   "outputs": [],
   "source": [
    "import numpy as np\n",
    "from scipy.stats import betaprime\n",
    "from scipy.special import beta\n",
    "%matplotlib tk\n",
    "import matplotlib.pyplot as plt\n",
    "import random\n",
    "import matplotlib.animation as animation"
   ]
  },
  {
   "cell_type": "code",
   "execution_count": 149,
   "metadata": {},
   "outputs": [],
   "source": [
    "def simulador(t, t0, sigma, omega):\n",
    "    \"\"\"\n",
    "    Funcion que realiza la gráfica de un pulso base\n",
    "    t       -> Array NP de los tiempos a sondear\n",
    "    t0      -> Valor central del pico\n",
    "    sigma   -> Ancho del pico\n",
    "    omega   -> Frecuencia de oscilacion\n",
    "    \"\"\"\n",
    "    #Determino el valor de A\n",
    "    A = 1 / (sigma * np.sqrt(2 * np.pi))\n",
    "    pulso = A * np.exp(-(t - t0) ** 2 / (2 * sigma ** 2)) * np.cos(omega * (t - t0 + sigma))\n",
    "    return pulso\n",
    "\n",
    "def gaussian(mean, sigma):\n",
    "    return np.random.normal(mean, sigma)"
   ]
  },
  {
   "cell_type": "code",
   "execution_count": 150,
   "metadata": {},
   "outputs": [],
   "source": [
    "#Obtengo los puntos de tiempo para el muestreo (1000 puntos)\n",
    "t = np.linspace(0, 10, 1000)\n",
    "\n",
    "#Creo una funcion para generar los números aleatorios\n",
    "def aleatorios():\n",
    "    #Calculo los tiempos donde se van a generar los picos con distribución beta prime\n",
    "    # Definir los parámetros de la distribución\n",
    "    t0s=[1.8, 2.8, 5]\n",
    "    a = 4\n",
    "    b = 2\n",
    "    sigma_t = 0.15\n",
    "    taux=[]\n",
    "    for t0x in t0s:\n",
    "        t = betaprime.rvs(a, b, loc=t0x, scale=sigma_t, size=1)\n",
    "        taux.append(t[0])\n",
    "    tiempos=np.array(taux)\n",
    "\n",
    "    #Calculo los anchos de los pulsos(sigmas)\n",
    "\n",
    "    sigmas=np.array([np.random.normal(0.05, 0.005) for _ in range(3)]) \n",
    "\n",
    "    #Calculo las frecuencias de oscilacion\n",
    "    omegas=np.array([np.random.normal(5*np.pi, 0.05) for _ in range(3)])\n",
    "    \n",
    "    #Probabilidades de los picos\n",
    "    px=np.random.random(size=3)\n",
    "    prob=np.array([0.3, 0.1, 0.6])\n",
    "    aciertos=np.zeros(3)\n",
    "    for x in range(3):\n",
    "        if px[x]<=prob[x]:aciertos[x]=1\n",
    "    return tiempos, sigmas, omegas, aciertos"
   ]
  },
  {
   "cell_type": "code",
   "execution_count": 151,
   "metadata": {},
   "outputs": [],
   "source": [
    "# Señal completa\n",
    "def senialcomp(muestras):\n",
    "    tiem, sig, ome, match = aleatorios()\n",
    "    #obtengo el ruido absoluto\n",
    "    ruido_abs = np.random.normal(0, 0.2, size=1000)\n",
    "    #Obtengo el ruido relativo\n",
    "    ruido_rel = np.random.normal(1, 0.1, size=1000)\n",
    "    \n",
    "    \n",
    "    #fondo\n",
    "    fondo=(2-muestras) / 100\n",
    "    senial1=match[0]*simulador(t, tiem[0],sig[0],ome[0])\n",
    "    senial2=match[1]*simulador(t, tiem[1],sig[1],ome[1])\n",
    "    senial3=match[2]*simulador(t, tiem[2],sig[2],ome[2])\n",
    "    signal=fondo+(senial1+senial2+senial3)*ruido_rel+ruido_abs\n",
    "    return signal\n",
    "\n",
    "# Animación\n",
    "fig, ax = plt.subplots()\n",
    "ax.set_xlim(0, 10)\n",
    "ax.set_ylim(-5, 10)\n",
    "#line, = ax.plot(t[0], signal[0], lw=2)\n",
    "line, = plt.plot([], [])\n",
    "#def init():\n",
    "#    line.set_data([], [])\n",
    " #   return line,\n",
    "\n",
    "def animate(i,L):\n",
    "    #gobal t\n",
    "    sig=senialcomp(t)\n",
    "    #line.set_data(t[:i], signal[:i])\n",
    "    L.set_data(t, sig)\n",
    "    return L,\n",
    "\n",
    "repeticiones=100\n",
    "animacion=animation.FuncAnimation(fig, animate,repeticiones,fargs=(line,), interval=300, blit=True)\n",
    "plt.show()"
   ]
  },
  {
   "cell_type": "code",
   "execution_count": null,
   "metadata": {},
   "outputs": [],
   "source": []
  }
 ],
 "metadata": {
  "kernelspec": {
   "display_name": "Python 3 (ipykernel)",
   "language": "python",
   "name": "python3"
  },
  "language_info": {
   "codemirror_mode": {
    "name": "ipython",
    "version": 3
   },
   "file_extension": ".py",
   "mimetype": "text/x-python",
   "name": "python",
   "nbconvert_exporter": "python",
   "pygments_lexer": "ipython3",
   "version": "3.9.13"
  }
 },
 "nbformat": 4,
 "nbformat_minor": 2
}
