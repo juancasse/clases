{
 "cells": [
  {
   "cell_type": "markdown",
   "id": "88481c94",
   "metadata": {},
   "source": [
    "Presentación"
   ]
  },
  {
   "cell_type": "code",
   "execution_count": 2,
   "id": "4dbf5a5a",
   "metadata": {},
   "outputs": [
    {
     "name": "stdout",
     "output_type": "stream",
     "text": [
      "Juan Ignacio Casse \n",
      "\n",
      "Clase2 \n",
      "\n"
     ]
    }
   ],
   "source": [
    "print(\"Juan Ignacio Casse\",\"\\n\")\n",
    "print(\"Clase 2\", \"\\n\")"
   ]
  },
  {
   "cell_type": "code",
   "execution_count": 3,
   "id": "de4e524b",
   "metadata": {},
   "outputs": [],
   "source": [
    "s = '''Aquí me pongo a cantar\n",
    "Al compás de la vigüela,\n",
    "Que el hombre que lo desvela\n",
    "Una pena estraordinaria\n",
    "Como la ave solitaria\n",
    "Con el cantar se consuela.'''"
   ]
  },
  {
   "cell_type": "markdown",
   "id": "b9a38e46",
   "metadata": {},
   "source": [
    "* Cuente la cantidad de veces que aparecen los substrings `es`, `la`, `que`, `co`,  en los siguientes dos casos: distinguiendo entre mayúsculas y minúsculas, y no distinguiendo. Imprima el resultado."
   ]
  },
  {
   "cell_type": "code",
   "execution_count": 18,
   "id": "5b6ff9da",
   "metadata": {},
   "outputs": [
    {
     "name": "stdout",
     "output_type": "stream",
     "text": [
      "Distinguiendo:\n",
      "Cantidad \"es\": 2\n",
      "Cantidad \"la\": 5\n",
      "Cantidad \"que\": 1\n",
      "Cantidad \"co\": 2\n",
      "\n",
      "\n",
      "Sin distinguir:\n",
      "Cantidad \"es\": 2\n",
      "Cantidad \"la\": 5\n",
      "Cantidad \"que\": 2\n",
      "Cantidad \"co\": 2\n",
      "\n",
      "\n"
     ]
    }
   ],
   "source": [
    "#Distinguiendo entre mayusculas y minusculas\n",
    "es=str(s.count(\"es\",))\n",
    "la=str(s.count(\"la\"))\n",
    "que=str(s.count(\"que\"))\n",
    "co=str(s.count(\"co\"))\n",
    "print(\"Distinguiendo:\")\n",
    "print('Cantidad \"es\": '+ es)\n",
    "print('Cantidad \"la\": '+ la)\n",
    "print('Cantidad \"que\": '+ que)\n",
    "print('Cantidad \"co\": '+ co)\n",
    "print(\"\\n\")\n",
    "\n",
    "#Sin distinguir entre mayusculas y minusculas\n",
    "sAux=s.lower()\n",
    "es=str(sAux.count(\"es\"))\n",
    "la=str(sAux.count(\"la\"))\n",
    "que=str(sAux.count(\"que\"))\n",
    "co=str(s.count(\"co\"))\n",
    "print(\"Sin distinguir:\")\n",
    "print('Cantidad \"es\": '+ es)\n",
    "print('Cantidad \"la\": '+ la)\n",
    "print('Cantidad \"que\": '+ que)\n",
    "print('Cantidad \"co\": '+ co)\n",
    "print(\"\\n\")\n"
   ]
  },
  {
   "cell_type": "markdown",
   "id": "9ef64e69",
   "metadata": {},
   "source": [
    " * Cree una lista, donde cada elemento es una línea del string `s` y encuentre la de mayor longitud. Imprima por pantalla la línea y su longitud. (Posibles ayudas: busque información sobre funciones que aplican a *strings* y los métodos)"
   ]
  },
  {
   "cell_type": "code",
   "execution_count": 24,
   "id": "e94d5fa0",
   "metadata": {},
   "outputs": [
    {
     "name": "stdout",
     "output_type": "stream",
     "text": [
      "la línea más larga es: 'Que el hombre que lo desvela'. Longitud: 28\n",
      "\n",
      "\n"
     ]
    }
   ],
   "source": [
    "lista=s.splitlines()\n",
    "#detecto cual es el más largo\n",
    "indice=0\n",
    "Lmayor=0\n",
    "for i in lista:\n",
    "    if len(i)>len(lista[Lmayor]):\n",
    "        Lmayor=indice       \n",
    "    indice+=1\n",
    "#y lo imprimo\n",
    "print(\"la línea más larga es: '\"+ lista[Lmayor] + \"'. Longitud: \"+ str(len(lista[Lmayor]))+\"\\n\\n\" )\n"
   ]
  },
  {
   "cell_type": "markdown",
   "id": "4b18a59b",
   "metadata": {},
   "source": [
    "  * Forme un nuevo string de 10 caracteres que contenga los 5 primeros y los 5 últimos del string anterior `s`. Imprima por pantalla el nuevo string."
   ]
  },
  {
   "cell_type": "code",
   "execution_count": 8,
   "id": "dc742fec",
   "metadata": {},
   "outputs": [
    {
     "name": "stdout",
     "output_type": "stream",
     "text": [
      "Aquí uela.\n"
     ]
    }
   ],
   "source": [
    "Nuevostring=s[:5]+s[-5:]\n",
    "print(Nuevostring+\"\\n\\n\")"
   ]
  },
  {
   "cell_type": "markdown",
   "id": "c1fcf113",
   "metadata": {},
   "source": [
    "  * Forme un nuevo string que contenga los 10 caracteres centrales de `s` (utilizando un método que pueda aplicarse a otros strings también). Imprima por pantalla el nuevo string."
   ]
  },
  {
   "cell_type": "code",
   "execution_count": 9,
   "id": "958e1841",
   "metadata": {},
   "outputs": [
    {
     "name": "stdout",
     "output_type": "stream",
     "text": [
      "Cantidad a imprimir:  10 , desde el numero  69  hasta el  79 \n",
      "\n",
      "desvela\n",
      "Un\n"
     ]
    }
   ],
   "source": [
    "CaracteresImprimir=10\n",
    "CaracteresTotales=len(s)\n",
    "CaracterInicial=(CaracteresTotales-CaracteresImprimir)//2\n",
    "CaracterFinal=CaracterInicial + CaracteresImprimir\n",
    "print(\"Cantidad a imprimir: \", CaracteresImprimir, \", desde el numero \", CaracterInicial, \" hasta el \", CaracterFinal,\"\\n\")\n",
    "\n",
    "CadenaImprimir=s[CaracterInicial:CaracterFinal]\n",
    "print(CadenaImprimir+\"\\n\\n\")"
   ]
  },
  {
   "cell_type": "markdown",
   "id": "f5e45c93",
   "metadata": {},
   "source": [
    " * Cambie todas las letras \"m\" por \"n\" y todas las letras \"n\" por \"m\" en `s`. Imprima el resultado por pantalla."
   ]
  },
  {
   "cell_type": "code",
   "execution_count": 10,
   "id": "cafc5ea7",
   "metadata": {},
   "outputs": [
    {
     "name": "stdout",
     "output_type": "stream",
     "text": [
      "Aquí ne pomgo a camtar\n",
      "Al conpás de la vigüela,\n",
      "Que el honbre que lo desvela\n",
      "Uma pema estraordimaria\n",
      "Cono la ave solitaria\n",
      "Com el camtar se comsuela.\n"
     ]
    }
   ],
   "source": [
    "r=s.replace(\"m\",\"-\")\n",
    "r=r.replace(\"n\",\"m\")\n",
    "r=r.replace(\"-\",\"n\")\n",
    "print(r)"
   ]
  },
  {
   "cell_type": "code",
   "execution_count": null,
   "id": "acf52485",
   "metadata": {},
   "outputs": [],
   "source": []
  }
 ],
 "metadata": {
  "kernelspec": {
   "display_name": "Python 3 (ipykernel)",
   "language": "python",
   "name": "python3"
  },
  "language_info": {
   "codemirror_mode": {
    "name": "ipython",
    "version": 3
   },
   "file_extension": ".py",
   "mimetype": "text/x-python",
   "name": "python",
   "nbconvert_exporter": "python",
   "pygments_lexer": "ipython3",
   "version": "3.9.13"
  }
 },
 "nbformat": 4,
 "nbformat_minor": 5
}
