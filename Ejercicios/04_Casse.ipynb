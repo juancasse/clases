{
 "cells": [
  {
   "cell_type": "markdown",
   "id": "56f85b9a-1124-4e07-92db-b904b05592f6",
   "metadata": {},
   "source": [
    "### Función que convierte a matriz"
   ]
  },
  {
   "cell_type": "code",
   "execution_count": 1,
   "id": "d06b9888",
   "metadata": {},
   "outputs": [],
   "source": [
    "def str_to_matriz(entrada):\n",
    "    entrada=entrada.replace(\" \",\"\")\n",
    "    resultado=entrada.splitlines()\n",
    "    for i,j in enumerate(resultado):\n",
    "        resultado[i]=list(j)\n",
    "    return resultado\n"
   ]
  },
  {
   "cell_type": "markdown",
   "id": "a8255b85-4ad9-4207-917a-84602c86dcaf",
   "metadata": {},
   "source": [
    "### Función que verifica si se repite un caracter en la lista"
   ]
  },
  {
   "cell_type": "code",
   "execution_count": 2,
   "id": "aa85892b",
   "metadata": {},
   "outputs": [],
   "source": [
    "def check_repetidos(lista):\n",
    "    if len(set(lista))==len(lista):\n",
    "        resultado=True\n",
    "    else:\n",
    "        resultado=False\n",
    "    return resultado"
   ]
  },
  {
   "cell_type": "markdown",
   "id": "d295debf-0dd2-4d37-8cc6-e85fa44fef00",
   "metadata": {},
   "source": [
    "### Función que verifica el sudoku"
   ]
  },
  {
   "cell_type": "code",
   "execution_count": 3,
   "id": "080533bf-56a7-43ae-b55b-df76a346548d",
   "metadata": {},
   "outputs": [],
   "source": [
    "def check_sudoku(matriz):\n",
    "    longitud=len(matriz)\n",
    "    grillaok=1\n",
    "    for a in range(longitud):\n",
    "    #Chequeo las filas\n",
    "        if check_repetidos(matriz[a])==False:\n",
    "            print(\"error en la linea {}\".format(a+1))\n",
    "            grillaok=0\n",
    "    #chequeo las columnas\n",
    "        columna=[matriz[b][a] for b in range(longitud)]\n",
    "        if check_repetidos(columna)==False:\n",
    "            print(\"error en la columna {}\".format(a+1))\n",
    "            grillaok=0\n",
    "    #chequeo los casilleros de 3x3\n",
    "        j, k = (a // 3) * 3, (a % 3) * 3\n",
    "        casillero = [matriz[a][b] for a in range(j, j+3) for b in range(k, k+3)]\n",
    "        if check_repetidos(casillero)==False:\n",
    "            print(\"error en el casillero {}\".format(a+1))\n",
    "            grillaok=0\n",
    "    if grillaok==1:\n",
    "        print(36*\"*\")\n",
    "        print(7*\"*\"+\"   sudoku correcto!   \"+7*\"*\")\n",
    "        print(36*\"*\")\n",
    "    else:\n",
    "        print(\"\\nsudoku incorrecto...\\nintente nuevamente\")"
   ]
  },
  {
   "cell_type": "markdown",
   "id": "3c7faad1-c5f8-4e2e-b320-f811f9b7dbbc",
   "metadata": {},
   "source": [
    "#### Defino el texto del sudoku, convierto a matriz y verifico"
   ]
  },
  {
   "cell_type": "code",
   "execution_count": 4,
   "id": "6eb3d727",
   "metadata": {},
   "outputs": [],
   "source": [
    "sudoku = \"\"\"145327698\n",
    "        839654127\n",
    "        672918543\n",
    "        496185372\n",
    "        218473956\n",
    "        753296481\n",
    "        367542819\n",
    "        984761235\n",
    "        521839764\"\"\"\n"
   ]
  },
  {
   "cell_type": "code",
   "execution_count": 5,
   "id": "bcd7828a",
   "metadata": {},
   "outputs": [],
   "source": [
    "msudoku=str_to_matriz(sudoku)"
   ]
  },
  {
   "cell_type": "code",
   "execution_count": 6,
   "id": "4872c79f",
   "metadata": {},
   "outputs": [
    {
     "name": "stdout",
     "output_type": "stream",
     "text": [
      "************************************\n",
      "*******   sudoku correcto!   *******\n",
      "************************************\n"
     ]
    }
   ],
   "source": [
    "check_sudoku(msudoku)"
   ]
  },
  {
   "cell_type": "code",
   "execution_count": null,
   "id": "8b9bdc13-39c7-46fb-bfd0-ac0678b54b46",
   "metadata": {},
   "outputs": [],
   "source": []
  }
 ],
 "metadata": {
  "kernelspec": {
   "display_name": "Python 3 (ipykernel)",
   "language": "python",
   "name": "python3"
  },
  "language_info": {
   "codemirror_mode": {
    "name": "ipython",
    "version": 3
   },
   "file_extension": ".py",
   "mimetype": "text/x-python",
   "name": "python",
   "nbconvert_exporter": "python",
   "pygments_lexer": "ipython3",
   "version": "3.9.13"
  }
 },
 "nbformat": 4,
 "nbformat_minor": 5
}
