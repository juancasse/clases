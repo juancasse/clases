{
 "cells": [
  {
   "cell_type": "code",
   "execution_count": 1,
   "id": "aa06cb7d",
   "metadata": {},
   "outputs": [],
   "source": [
    "import numpy as np\n",
    "from scipy.stats import betaprime, norm\n",
    "%matplotlib tk\n",
    "import matplotlib.pyplot as plt\n",
    "import random"
   ]
  },
  {
   "cell_type": "code",
   "execution_count": 2,
   "id": "82364830",
   "metadata": {},
   "outputs": [],
   "source": [
    "def detector_signal(t, t0, sigma, omega):\n",
    "    A = 1 / (sigma * np.sqrt(2 * np.pi))\n",
    "    pulse = A * np.exp(-(t - t0) ** 2 / (2 * sigma ** 2)) * np.cos(omega * (t - t0 + sigma))\n",
    "    return pulse\n",
    "\n",
    "def gaussian(mean, sigma):\n",
    "    return np.random.normal(mean, sigma)\n",
    "\n",
    "def beta_prime(t0, sigma):\n",
    "    a, b = 4, 2\n",
    "    x = betaprime.rvs(a, b, size=1)[0]\n",
    "    return t0 + (x - 0.5) * sigma"
   ]
  },
  {
   "cell_type": "code",
   "execution_count": 3,
   "id": "98af823f",
   "metadata": {},
   "outputs": [],
   "source": [
    "# Parámetros de los picos\n",
    "t0s = [1.8, 2.8, 5]\n",
    "p = [0.3, 0.1, 0.6]\n",
    "sigmas = [gaussian(0.05, 0.005) for _ in range(3)]\n",
    "omegas = [gaussian(5 * np.pi, 0.05) for _ in range(3)]\n",
    "\n",
    "# Ruido de la medición\n",
    "t = np.linspace(0, 10, 1000)\n",
    "absolute_noise = np.random.normal(0, 0.2, size=1000)\n",
    "relative_noise = np.random.normal(1, 0.1, size=1000)"
   ]
  },
  {
   "cell_type": "code",
   "execution_count": 4,
   "id": "a474ce2a",
   "metadata": {},
   "outputs": [],
   "source": [
    "# Señal completa\n",
    "signal = np.zeros_like(t)\n",
    "for i, t_i in enumerate(t):\n",
    "    for t0, sigma, omega, prob in zip(t0s, sigmas, omegas, p):\n",
    "        if random.random() < prob:\n",
    "            signal[i] += detector_signal(t_i, beta_prime(t0, 0.15), sigma, omega)\n",
    "    signal[i] *= relative_noise[i]\n",
    "    signal[i] += absolute_noise[i]\n",
    "    signal[i] += (-t_i + 2) / 100\n",
    "\n",
    "# Animación\n",
    "fig, ax = plt.subplots()\n",
    "ax.set_xlim(0, 10)\n",
    "ax.set_ylim(-0.5, 1.5)\n",
    "line, = ax.plot([], [], lw=2)\n",
    "\n",
    "def init():\n",
    "    line.set_data([], [])\n",
    "    return line,\n",
    "\n",
    "def animate(i):\n",
    "    line.set_data(t[:i], signal[:i])\n",
    "    \n",
    "animacion=animation.FuncAnimation(fig, actualizar, pts, fargs=(x,t,v,h, punto), interval=70, blit=True)\n",
    "plt.show()"
   ]
  },
  {
   "cell_type": "code",
   "execution_count": null,
   "id": "5032e158",
   "metadata": {},
   "outputs": [],
   "source": [
    "animacion=animation.FuncAnimation(fig, actualizar, pts, fargs=(x,t,v,h, punto), interval=70, blit=True)\n",
    "plt.show()"
   ]
  }
 ],
 "metadata": {
  "kernelspec": {
   "display_name": "Python 3 (ipykernel)",
   "language": "python",
   "name": "python3"
  },
  "language_info": {
   "codemirror_mode": {
    "name": "ipython",
    "version": 3
   },
   "file_extension": ".py",
   "mimetype": "text/x-python",
   "name": "python",
   "nbconvert_exporter": "python",
   "pygments_lexer": "ipython3",
   "version": "3.9.13"
  }
 },
 "nbformat": 4,
 "nbformat_minor": 5
}
