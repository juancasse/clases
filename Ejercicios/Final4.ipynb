{
 "cells": [
  {
   "cell_type": "code",
   "execution_count": 2,
   "metadata": {},
   "outputs": [],
   "source": [
    "import numpy as np\n",
    "from scipy.stats import betaprime\n",
    "from scipy.special import beta\n",
    "from scipy.signal import find_peaks, peak_prominences\n",
    "%matplotlib tk\n",
    "import matplotlib.pyplot as plt\n",
    "import random\n",
    "import matplotlib.animation as animation"
   ]
  },
  {
   "attachments": {},
   "cell_type": "markdown",
   "metadata": {},
   "source": [
    "## Generador:\n",
    "Clase que contiene los datos para generar señales con parámetros aleatorios.\n",
    "Posee un método:\n",
    "### generar_senial\n",
    "Este método devuelve la señal simulada, con parámetros aleatorios.\n",
    "Llamando a este método con argumentos adecuados, se puede que se cambien los parámetros del objeto\n",
    "    "
   ]
  },
  {
   "cell_type": "code",
   "execution_count": 3,
   "metadata": {},
   "outputs": [],
   "source": [
    "class Generador:\n",
    "    def __init__(self,picos:list=[1.8, 2.8, 5],prob:list=[0.3, 0.1, 0.6], muestras:int=1000):\n",
    "        self.picos=picos                        #Valores de tiempo donde se centran los picos\n",
    "        self.P=prob                             #Probabilidades de ocurrencia de los picos\n",
    "        self.muestras=muestras\n",
    "        self.t=np.linspace(0, 10, muestras)     #define los puntos de muestreo\n",
    "        \n",
    "\n",
    "    def generar_senial(self, **kwargs):\n",
    "        ''' Función que genra una señal para un número de muestras dadas,\n",
    "         entre 0 y 10 micro segundos\n",
    "         picos -> Lista con los tiempos donde se centran los picos\n",
    "         prob -> Probabilidad que tienen los picos de ocurrir\n",
    "\n",
    "         Si estos argumentos no se brindan, se toman los definidos en el objeto\n",
    "         '''\n",
    "        \n",
    "        #Si se declaran los picos o las probabilidades, se cambian en la raiz\n",
    "        if 'picos' in kwargs: self.picos=kwargs['picos']\n",
    "        if 'prob' in kwargs: self.P=kwargs['prob'] \n",
    "        if 'muestras' in kwargs:\n",
    "            self.muestras=kwargs['muestras']\n",
    "            self.t=np.linspace(0, 10, kwargs['muestras'])\n",
    "        ####################################################################\n",
    "        ##### A partir de acá se generan las señales base de los picos #####\n",
    "        ####################################################################\n",
    "\n",
    "        a,b,sigma_t = 4,2,0.15                  #Seteo los parámetros para la distribución beta prima\n",
    "\n",
    "        taux=[]                                 #Determmino las posiciones reales de los picos siguiendo una\n",
    "        for tx in self.picos:                   #distribución beta prima\n",
    "            t = betaprime.rvs(a, b, loc=tx, scale=sigma_t, size=1)\n",
    "            taux.append(t[0])\n",
    "        t0s=np.array(taux)\n",
    "        \n",
    "        sigmas=np.array([np.random.normal(0.05, 0.005) for x in self.picos])      #Calculo los anchos de los pulsos(sigmas)    \n",
    "        omegas=np.array([np.random.normal(5*np.pi, 0.05) for x in self.picos])    #Calculo las frecuencias de oscilacion\n",
    "\n",
    "        #Probabilidades de los picos\n",
    "        rx=np.random.random(size=len(self.picos))             #obtengo tres valores random entre 0 y 1\n",
    "        px=np.array(self.P)                                   #Convierto probabilidades a NP\n",
    "        aciertos=np.array([r<=p for r,p in zip(rx,px)])       #En los aciertos se establece TRUE si el pico aparece y FALSE si no\n",
    "    \n",
    "        #Determino los valres de A\n",
    "        A = 1 / (sigmas * np.sqrt(2 * np.pi))\n",
    "        #pulsos = A * np.exp(-(self.t - t0s) ** 2 / (2 * sigmas ** 2)) * np.cos(omegas * (t - t0s + sigmas))\n",
    "        pulsosparciales =np.array([match*Ax * np.exp(-(self.t - t0) ** 2 / (2 * sigma ** 2)) * np.cos(omega * (self.t - t0 + sigma)) for\n",
    "                                          Ax, t0,sigma,omega,match in zip(A,t0s,sigmas,omegas,aciertos)])\n",
    "        pulsos=pulsosparciales.sum(axis=0)\n",
    "       \n",
    "\n",
    "        ####################################################################\n",
    "        ### A partir de acá se generan las señales \"accesorio\" (ruidos)  ###\n",
    "        ####################################################################\n",
    "\n",
    "        #obtengo el ruido absoluto\n",
    "        ruido_abs = np.random.normal(0, 0.2, size=self.muestras)\n",
    "        #Obtengo el ruido relativo\n",
    "        ruido_rel = np.random.normal(1, 0.1, size=self.muestras)\n",
    "        #Obtengo la señal de fondo\n",
    "        fondo=(2-self.t) / 100\n",
    "\n",
    "        ####################################################################\n",
    "        #### Sumatoria de todas las señales para formar la señal final  ####\n",
    "        ####################################################################\n",
    "\n",
    "        pulso=pulsos*ruido_rel+ruido_abs+fondo\n",
    "\n",
    "        return self.t, pulso\n",
    "    \n",
    "\n",
    "    \n",
    "    def muestrear(self,nmed=10000, picos:list=[1.8, 2.8, 5],prob:list=[0.3, 0.1, 0.6]):\n",
    "        self.picos=picos\n",
    "        self.prob=prob\n",
    "\n",
    "        dataset=np.empty((nmed,self.muestras))\n",
    "        for x in range(nmed):\n",
    "            senial=self.generar_senial(picos=picos, prob=prob)[1]\n",
    "            dataset[x]=senial\n",
    "        self.dataset= dataset\n",
    "\n",
    "        return self.t, dataset.sum(axis=0)/nmed\n",
    "\n",
    "\n",
    "\n"
   ]
  },
  {
   "attachments": {},
   "cell_type": "markdown",
   "metadata": {},
   "source": [
    "#### Creo el objeto que genera las señales\n",
    "muestras indica  el muestreo de tiempo entre 0  y 10 $\\mu$ Segundos (en este caso 5000)"
   ]
  },
  {
   "cell_type": "code",
   "execution_count": 4,
   "metadata": {},
   "outputs": [],
   "source": [
    "sim=Generador(muestras=5000)"
   ]
  },
  {
   "attachments": {},
   "cell_type": "markdown",
   "metadata": {},
   "source": [
    "#### Animo el objeto"
   ]
  },
  {
   "cell_type": "markdown",
   "metadata": {},
   "source": [
    "# Animación\n",
    "fig, ax = plt.subplots()\n",
    "ax.set_xlim(0, 10)\n",
    "ax.set_ylim(-5, 15)\n",
    "ax.set_xlabel('Tiempo [μS]')\n",
    "ax.set_ylabel('Tensión [mV]')\n",
    "ax.grid(color='m')\n",
    "line, = plt.plot([], [])\n",
    "\n",
    "\n",
    "def animate(i,L):\n",
    "    t,sig=sim.generar_senial()\n",
    "    L.set_data(t, sig)\n",
    "    return L,\n",
    "\n",
    "repeticiones=100\n",
    "animacion=animation.FuncAnimation(fig, animate,repeticiones,fargs=(line,), interval=200, blit=True)\n",
    "plt.show()"
   ]
  },
  {
   "cell_type": "code",
   "execution_count": 5,
   "metadata": {},
   "outputs": [],
   "source": [
    "x=[0,0,0]\n",
    "y=[0,0,0]\n",
    "maximos=[0,0,0]\n",
    "medizq=[0,0,0]\n",
    "medder=[0,0,0]\n",
    "\n",
    "x[0],y[0]=sim.muestrear(nmed=10000, picos=[1.8,2.8,5], prob=[1,0,0])\n",
    "x[1],y[1]=sim.muestrear(nmed=10000, picos=[1.8,2.8,5], prob=[0.8,0.1,0.1])\n",
    "x[2],y[2]=sim.muestrear(nmed=10000, picos=[1.8,2.8,3.5], prob=[0.85,0.1,0.05])"
   ]
  },
  {
   "cell_type": "markdown",
   "metadata": {},
   "source": [
    "def filtroprom(x):\n",
    "    if x>0.02: return 1\n",
    "    else: return 0\n",
    "\n",
    "def filtromax(max):\n",
    "    return max>0"
   ]
  },
  {
   "cell_type": "code",
   "execution_count": 6,
   "metadata": {},
   "outputs": [],
   "source": [
    "for n, (xn ,yn) in enumerate(zip(x,y)):\n",
    "    maximos[n], prop = find_peaks(yn,prominence=0.02, width=50)\n",
    "    medizq[n]=prop[\"left_ips\"]\n",
    "    medder[n]=prop[\"right_ips\"]"
   ]
  },
  {
   "cell_type": "code",
   "execution_count": 30,
   "metadata": {},
   "outputs": [],
   "source": [
    "fig, axs = plt.subplots(3, 1,figsize=(8, 10))\n",
    "titulos=[\"Picos en t=1.8,2.8,5 y probabilidades 1,0,0\",\"Picos en t=1.8,2.8,5 y probabilidades 0.8,0.1,0.1\", \"Picos en t=1.8,2.8,3.5 y probabilidades 0.85,0.1,0.05\"]\n",
    "\n",
    "for rep,(xn,yn,mxn,titx) in enumerate(zip (x,y,maximos,titulos)):\n",
    "\n",
    "    axs[rep].grid(linestyle=':',which='minor',alpha=0.2, color='gray')\n",
    "    axs[rep].grid(linestyle=':',which='major',alpha=0.6, color='black')\n",
    "    \n",
    "    axs[rep].plot(xn,yn, label='Promedios')\n",
    "    axs[rep].plot(mxn*10/sim.muestras,yn[mxn],'r*',label='Máximos')\n",
    "    medios=(np.rint(np.append(medizq[rep],medder[rep]))).astype(int)\n",
    "    axs[rep].plot(medios*10/sim.muestras,yn[medios],'gd',label='Medios')\n",
    "    axs[rep].set_title(titx)\n",
    "    axs[rep].set_xlabel('Tiempo ($\\mu$ segundos)')\n",
    "    axs[rep].set_ylabel('Tensión (mV)')\n",
    "\n",
    "    axs[rep].set_ylim([-0.2,1.4])\n",
    "\n",
    "    for n,m in enumerate(mxn):\n",
    "        text=\"max {}: {:.3}\".format(n+1,yn[m])\n",
    "        axs[rep].annotate(text,xy= (m*10/sim.muestras-0.2,yn[m]+0.05))\n",
    "    for n,(i,d) in enumerate(zip(medizq[rep],medder[rep])):\n",
    "        ancho=(d-i)*10/sim.muestras\n",
    "        text=\"ancho {}: {:.3} $\\mu$S\".format(n+1,ancho)\n",
    "        axs[rep].annotate(text,xy= (5,1.2-0.15*n))\n",
    "    axs[rep].minorticks_on()\n",
    "    axs[rep].legend(loc=\"best\", title=\"Referencias\")\n",
    "    \n",
    "    \n",
    "\n",
    "\n",
    "# Ajustar los márgenes de las subgráficas\n",
    "fig.tight_layout()\n",
    "plt.show()"
   ]
  },
  {
   "cell_type": "code",
   "execution_count": 206,
   "metadata": {},
   "outputs": [],
   "source": [
    "peaks, properties = find_peaks(y[2], prominence=0.02, width=20)\n",
    "iad=np.append(properties[\"left_ips\"],properties[\"right_ips\"])\n",
    "riad = (np.rint(iad)).astype(int)\n",
    "\n"
   ]
  },
  {
   "cell_type": "code",
   "execution_count": 208,
   "metadata": {},
   "outputs": [],
   "source": [
    "plt.plot(y[2])\n",
    "\n",
    "plt.plot(peaks, y[2][peaks], \"x\")\n",
    "plt.plot(riad,y[2][riad], \"d\")\n",
    "\n",
    "##plt.vlines(x=peaks, ymin=x[peaks] - properties[\"prominences\"], ymax = x[peaks], color = \"C1\")\n",
    "\n",
    "#plt.hlines(y=properties[\"width_heights\"], xmin=properties[\"left_ips\"],xmax=properties[\"right_ips\"], color = \"C1\")\n",
    "\n",
    "plt.show()"
   ]
  },
  {
   "cell_type": "code",
   "execution_count": null,
   "metadata": {},
   "outputs": [],
   "source": []
  }
 ],
 "metadata": {
  "kernelspec": {
   "display_name": "Python 3 (ipykernel)",
   "language": "python",
   "name": "python3"
  },
  "language_info": {
   "codemirror_mode": {
    "name": "ipython",
    "version": 3
   },
   "file_extension": ".py",
   "mimetype": "text/x-python",
   "name": "python",
   "nbconvert_exporter": "python",
   "pygments_lexer": "ipython3",
   "version": "3.9.13"
  }
 },
 "nbformat": 4,
 "nbformat_minor": 2
}
