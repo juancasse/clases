{
 "cells": [
  {
   "cell_type": "code",
   "execution_count": 155,
   "metadata": {},
   "outputs": [],
   "source": [
    "import numpy as np               \n",
    "##import matplotlib.pyplot as plt"
   ]
  },
  {
   "cell_type": "code",
   "execution_count": 69,
   "metadata": {},
   "outputs": [],
   "source": [
    "def trapz(x,y):\n",
    "    total=0.0\n",
    "    h=(x[-1]-x[0])/(len(x)-1)\n",
    "        \n",
    "    for i in y:\n",
    "        total+=2*i\n",
    "    total-=(y[0]+y[-1])\n",
    "    resultado=h*0.5*total\n",
    "\n",
    "    return resultado\n"
   ]
  },
  {
   "cell_type": "code",
   "execution_count": 149,
   "metadata": {},
   "outputs": [],
   "source": [
    "def trapzf(f, a, b, npts=100):\n",
    "    total=0.0\n",
    "    h=(b-a)/(npts)\n",
    "    \n",
    "    for i in arange(npts+1):\n",
    "        fx=f(a+i*h)\n",
    "        total+=2*f(a+i*h)\n",
    "    total-=(f(a)+f(b))\n",
    "    resultado=h*0.5*total\n",
    "\n",
    "    return resultado"
   ]
  },
  {
   "cell_type": "code",
   "execution_count": 178,
   "metadata": {},
   "outputs": [],
   "source": [
    "def funcion(t):\n",
    "    return 1/(np.log(t))"
   ]
  },
  {
   "cell_type": "code",
   "execution_count": 179,
   "metadata": {},
   "outputs": [],
   "source": [
    "npts=np.array([10,20,30,40,50,60])"
   ]
  },
  {
   "cell_type": "code",
   "execution_count": 183,
   "metadata": {},
   "outputs": [
    {
     "name": "stdout",
     "output_type": "stream",
     "text": [
      "Para 10 puntos, la integral log de Euler entre 2 y 10 es: 5.172185580015585\n",
      "Para 20 puntos, la integral log de Euler entre 2 y 10 es: 5.133860075521836\n",
      "Para 30 puntos, la integral log de Euler entre 2 y 10 es: 5.126450023398037\n",
      "Para 40 puntos, la integral log de Euler entre 2 y 10 es: 5.123828667828359\n",
      "Para 50 puntos, la integral log de Euler entre 2 y 10 es: 5.122610199400442\n",
      "Para 60 puntos, la integral log de Euler entre 2 y 10 es: 5.12194691619344\n"
     ]
    }
   ],
   "source": [
    "for x in npts:\n",
    "    print(f'Para {x} puntos, la integral log de Euler entre 2 y 10 es: {trapzf(funcion,2,10,x)}')"
   ]
  }
 ],
 "metadata": {
  "kernelspec": {
   "display_name": "base",
   "language": "python",
   "name": "python3"
  },
  "language_info": {
   "codemirror_mode": {
    "name": "ipython",
    "version": 3
   },
   "file_extension": ".py",
   "mimetype": "text/x-python",
   "name": "python",
   "nbconvert_exporter": "python",
   "pygments_lexer": "ipython3",
   "version": "3.9.13"
  },
  "orig_nbformat": 4
 },
 "nbformat": 4,
 "nbformat_minor": 2
}
