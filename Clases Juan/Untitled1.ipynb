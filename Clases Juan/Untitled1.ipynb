{
 "cells": [
  {
   "cell_type": "code",
   "execution_count": 2,
   "id": "a970b7f2",
   "metadata": {},
   "outputs": [],
   "source": [
    "import numpy as np"
   ]
  },
  {
   "cell_type": "code",
   "execution_count": 3,
   "id": "024ac0d2",
   "metadata": {},
   "outputs": [],
   "source": [
    "a = np.random.uniform(size=100)"
   ]
  },
  {
   "cell_type": "code",
   "execution_count": 32,
   "id": "087bae6f",
   "metadata": {},
   "outputs": [],
   "source": [
    "def cercano(matriz,escalar):\n",
    "    b=abs(matriz-escalar)\n",
    "    c=b.argmin()\n",
    "    return (matriz[c],c)"
   ]
  },
  {
   "cell_type": "code",
   "execution_count": 40,
   "id": "5411551b",
   "metadata": {},
   "outputs": [
    {
     "data": {
      "text/plain": [
       "(0.12772029702496546, 42)"
      ]
     },
     "execution_count": 40,
     "metadata": {},
     "output_type": "execute_result"
    }
   ],
   "source": [
    "cercano(a, 0.12)"
   ]
  },
  {
   "cell_type": "code",
   "execution_count": null,
   "id": "b84d920c",
   "metadata": {},
   "outputs": [],
   "source": []
  }
 ],
 "metadata": {
  "kernelspec": {
   "display_name": "Python 3 (ipykernel)",
   "language": "python",
   "name": "python3"
  },
  "language_info": {
   "codemirror_mode": {
    "name": "ipython",
    "version": 3
   },
   "file_extension": ".py",
   "mimetype": "text/x-python",
   "name": "python",
   "nbconvert_exporter": "python",
   "pygments_lexer": "ipython3",
   "version": "3.9.13"
  }
 },
 "nbformat": 4,
 "nbformat_minor": 5
}
