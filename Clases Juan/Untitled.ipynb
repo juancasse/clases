{
 "cells": [
  {
   "cell_type": "code",
   "execution_count": 3,
   "id": "9c9311b2",
   "metadata": {},
   "outputs": [],
   "source": [
    "from math import atan2, pi\n",
    "\n",
    "class Punto:\n",
    "  \"Clase para describir un punto en el espacio\"\n",
    "\n",
    "  def __init__(self, x=0, y=0, z=0):\n",
    "    \"Inicializa un punto en el espacio\"\n",
    "    self.x = x\n",
    "    self.y = y\n",
    "    self.z = z\n",
    "    return None\n",
    "\n",
    "  def angulo_azimuthal(self):\n",
    "    \"Devuelve el ángulo que forma con el eje x, en radianes\"\n",
    "    return atan2(self.y, self.x)\n",
    "\n",
    "  def angulo_d_azimuthal(self):\n",
    "    \"Devuelve el ángulo que forma con el eje x, en grados\"\n",
    "    return 180/pi*(atan2(self.y, self.x))\n",
    "\n"
   ]
  },
  {
   "cell_type": "code",
   "execution_count": 31,
   "id": "8fdb13ff",
   "metadata": {},
   "outputs": [],
   "source": [
    "class Vector(Punto):\n",
    "  \"Representa un vector en el espacio\"\n",
    "\n",
    "  def __add__(self, v2):\n",
    "    \"Calcula un vector que contiene la suma de dos vectores\"\n",
    "    #print(\"Aún no implementada la suma de dos vectores\") \n",
    "    v = Vector(self.x + v2.x, self.y + v2.y, self.z + v2.z)\n",
    "    return(v)\n",
    "    \n",
    "  def producto(self, v2):\n",
    "    \"Calcula el producto interno entre dos vectores\"\n",
    "    #print(\"Aún no implementado el producto interno de dos vectores\") \n",
    "    w = (self.x*v2.x)+(self.y*v2.y)+(self.z*v2.z)\n",
    "    return(w)\n",
    "\n",
    "  def abs(self):\n",
    "    \"Devuelve la distancia del punto al origen\"\n",
    "    #print(\"Aún no implementado la norma del vector\") \n",
    "    n=(self.x**2+self.y**2+self.z**2)**0.5\n",
    "    return(n)"
   ]
  },
  {
   "cell_type": "code",
   "execution_count": 32,
   "id": "9d252972",
   "metadata": {},
   "outputs": [],
   "source": [
    "V1=Vector(1,2,3)\n",
    "V2=Vector(2,4,6)"
   ]
  },
  {
   "cell_type": "code",
   "execution_count": 33,
   "id": "baaf4335",
   "metadata": {},
   "outputs": [
    {
     "name": "stdout",
     "output_type": "stream",
     "text": [
      "3 6 9\n"
     ]
    }
   ],
   "source": [
    "vp= V1+V2\n",
    "print(vp.x,vp.y,vp.z)"
   ]
  },
  {
   "cell_type": "code",
   "execution_count": 34,
   "id": "46506362",
   "metadata": {},
   "outputs": [],
   "source": [
    "vq=V1.producto(V2)"
   ]
  },
  {
   "cell_type": "code",
   "execution_count": 36,
   "id": "75099b38",
   "metadata": {},
   "outputs": [
    {
     "name": "stdout",
     "output_type": "stream",
     "text": [
      "28\n"
     ]
    }
   ],
   "source": [
    "print(vq)"
   ]
  },
  {
   "cell_type": "code",
   "execution_count": 37,
   "id": "4dc689a0",
   "metadata": {},
   "outputs": [
    {
     "name": "stdout",
     "output_type": "stream",
     "text": [
      "3.7416573867739413\n"
     ]
    }
   ],
   "source": [
    "vr=V1.abs()\n",
    "print(vr)"
   ]
  },
  {
   "cell_type": "markdown",
   "id": "ad47ddac",
   "metadata": {},
   "source": [
    "Ejercicio 6 b"
   ]
  },
  {
   "cell_type": "code",
   "execution_count": 38,
   "id": "fb51b0fa",
   "metadata": {},
   "outputs": [],
   "source": [
    "class Punto:\n",
    "  \"Clase para describir un punto en el espacio\"\n",
    "\n",
    "  num_puntos = 0\n",
    "\n",
    "  def __init__(self, x=0, y=0, z=0):\n",
    "    \"Inicializa un punto en el espacio\"\n",
    "    self.x = x\n",
    "    self.y = y\n",
    "    self.z = z\n",
    "    Punto.num_puntos += 1\n",
    "    return None\n",
    "\n",
    "  def __del__(self):\n",
    "    \"Borra el punto y actualiza el contador\"\n",
    "    Punto.num_puntos -= 1\n",
    "\n",
    "  def __str__(self):\n",
    "    return f\"Punto en el espacio con coordenadas: x = {self.x}, y = {self.y}, z = {self.z}\"\n",
    "\n",
    "  def __repr__(self):\n",
    "    return f\"Punto(x = {self.x}, y = {self.y}, z = {self.z})\"\n",
    "\n",
    "  def __call__(self):\n",
    "    return self.__str__()\n",
    "\n",
    "  @classmethod\n",
    "  def total(cls):\n",
    "    \"Imprime el número total de puntos\"\n",
    "    print(f\"En total hay {cls.num_puntos} puntos definidos\")"
   ]
  },
  {
   "cell_type": "code",
   "execution_count": 63,
   "id": "60f15878",
   "metadata": {},
   "outputs": [],
   "source": [
    "import math as m\n",
    "class Vector(Punto):\n",
    "  \"Representa un vector en el espacio\"\n",
    "\n",
    "  def __add__(self, v2):\n",
    "    \"Calcula un vector que contiene la suma de dos vectores\"\n",
    "    #print(\"Aún no implementada la suma de dos vectores\") \n",
    "    v = Vector(self.x + v2.x, self.y + v2.y, self.z + v2.z)\n",
    "    return(v)\n",
    "\n",
    "  def abs(self):\n",
    "    \"Devuelve la distancia del punto al origen\"\n",
    "    #print(\"Aún no implementado la norma del vector\") \n",
    "    n=(self.x**2+self.y**2+self.z**2)**0.5\n",
    "    return(n)\n",
    "\n",
    "  def __mul__(self, v2):\n",
    "    \"Calcula el producto interno entre dos vectores\"\n",
    "    w = (self.x*v2.x)+(self.y*v2.y)+(self.z*v2.z)\n",
    "    return(w)\n",
    "\n",
    "  def angulo_entre_vectores(self, v2):\n",
    "    \"Calcula el ángulo entre dos vectores\"\n",
    "    angulo = m.acos(self*v2/(self.abs()*v2.abs()))*180/m.pi\n",
    "    #código calculando angulo = arccos(v1 * v2 / (|v1||v2|))\n",
    "    return angulo\n",
    "\n",
    "  def coordenadas_cilindricas(self):\n",
    "    \"Devuelve las coordenadas cilindricas del vector como una tupla (r, theta, z)\"\n",
    "    rg=(self.x**2+self.y**2)**0.5\n",
    "    r=rg*180/m.pi\n",
    "    thg=m.atan(self.y/self.x)\n",
    "    th=thg*180/m.pi\n",
    "    z=self.z\n",
    "    return (r,th,z)\n",
    "\n",
    "  def coordenadas_esfericas(self):\n",
    "    \"Devuelve las coordenadas esféricas del vector como una tupla (r, theta, phi)\"\n",
    "    r=(self.x**2+self.y**2+self.z**2)**0.5\n",
    "    thg=m.atan(self.y/self.x)\n",
    "    th=thg*180/pi\n",
    "    phig=m.acos(self.z/r)\n",
    "    phi=phig*180/pi\n",
    "    return (r,th,phi)"
   ]
  },
  {
   "cell_type": "code",
   "execution_count": 64,
   "id": "e6414910",
   "metadata": {},
   "outputs": [],
   "source": [
    "v1=Vector(1,1,1)"
   ]
  },
  {
   "cell_type": "code",
   "execution_count": 65,
   "id": "32d5f1a8",
   "metadata": {},
   "outputs": [
    {
     "data": {
      "text/plain": [
       "(1.7320508075688772, 45.0, 54.735610317245346)"
      ]
     },
     "execution_count": 65,
     "metadata": {},
     "output_type": "execute_result"
    }
   ],
   "source": [
    "v1.coordenadas_esfericas()"
   ]
  },
  {
   "cell_type": "code",
   "execution_count": 66,
   "id": "f52c97b0",
   "metadata": {},
   "outputs": [
    {
     "data": {
      "text/plain": [
       "(81.02846845413956, 45.0, 1)"
      ]
     },
     "execution_count": 66,
     "metadata": {},
     "output_type": "execute_result"
    }
   ],
   "source": [
    "v1.coordenadas_cilindricas()"
   ]
  },
  {
   "cell_type": "code",
   "execution_count": 51,
   "id": "16444da1",
   "metadata": {},
   "outputs": [],
   "source": [
    "v2=Vector(1,1,-1)"
   ]
  },
  {
   "cell_type": "code",
   "execution_count": 52,
   "id": "554a164f",
   "metadata": {},
   "outputs": [
    {
     "name": "stdout",
     "output_type": "stream",
     "text": [
      "Aún no implementado el ángulo entre dos vectores\n"
     ]
    },
    {
     "data": {
      "text/plain": [
       "1.2309594173407747"
      ]
     },
     "execution_count": 52,
     "metadata": {},
     "output_type": "execute_result"
    }
   ],
   "source": [
    "v1.angulo_entre_vectores(v2)"
   ]
  },
  {
   "cell_type": "code",
   "execution_count": 58,
   "id": "3ef55379",
   "metadata": {},
   "outputs": [],
   "source": [
    "va=Vector(1,0,0)\n",
    "vb=Vector(0,1,0)"
   ]
  },
  {
   "cell_type": "code",
   "execution_count": 59,
   "id": "7b19f217",
   "metadata": {},
   "outputs": [
    {
     "data": {
      "text/plain": [
       "90.0"
      ]
     },
     "execution_count": 59,
     "metadata": {},
     "output_type": "execute_result"
    }
   ],
   "source": [
    "va.angulo_entre_vectores(vb)"
   ]
  },
  {
   "cell_type": "code",
   "execution_count": null,
   "id": "77441c36",
   "metadata": {},
   "outputs": [],
   "source": []
  }
 ],
 "metadata": {
  "kernelspec": {
   "display_name": "Python 3 (ipykernel)",
   "language": "python",
   "name": "python3"
  },
  "language_info": {
   "codemirror_mode": {
    "name": "ipython",
    "version": 3
   },
   "file_extension": ".py",
   "mimetype": "text/x-python",
   "name": "python",
   "nbconvert_exporter": "python",
   "pygments_lexer": "ipython3",
   "version": "3.9.13"
  }
 },
 "nbformat": 4,
 "nbformat_minor": 5
}
