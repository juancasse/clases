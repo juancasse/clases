{
 "cells": [
  {
   "cell_type": "markdown",
   "id": "f7eaa61d",
   "metadata": {},
   "source": [
    "CLase 2"
   ]
  },
  {
   "cell_type": "markdown",
   "id": "4cc791fd",
   "metadata": {},
   "source": [
    "CADENA:"
   ]
  },
  {
   "cell_type": "code",
   "execution_count": 53,
   "id": "d7c367dd",
   "metadata": {},
   "outputs": [],
   "source": [
    "s = '''Aquí me pongo a cantar\n",
    "Al compás de la vigüela,\n",
    "Que el hombre que lo desvela\n",
    "Una pena estraordinaria\n",
    "Como la ave solitaria\n",
    "Con el cantar se consuela.'''\n",
    "\n"
   ]
  },
  {
   "cell_type": "markdown",
   "id": "5b7920c0",
   "metadata": {},
   "source": [
    "* Cuente la cantidad de veces que aparecen los substrings `es`, `la`, `que`, `co`,  en los siguientes dos casos: distinguiendo entre mayúsculas y minúsculas, y no distinguiendo. Imprima el resultado."
   ]
  },
  {
   "cell_type": "code",
   "execution_count": 54,
   "id": "83121147",
   "metadata": {},
   "outputs": [
    {
     "name": "stdout",
     "output_type": "stream",
     "text": [
      "Distinguiendo:\n",
      "Cantidad \"es\": 2\n",
      "Cantidad \"la\": 5\n",
      "Cantidad \"que\": 1\n",
      "Cantidad \"co\": 2\n",
      "Aquí me pongo a cantar\n",
      "Al compás de la vigüela,\n",
      "- el hombre que lo desvela\n",
      "Una pena estraordinaria\n",
      "Como la ave solitaria\n",
      "Con el cantar se consuela.\n"
     ]
    }
   ],
   "source": [
    "es=str(s.count(\"es\",))\n",
    "la=str(s.count(\"la\"))\n",
    "que=str(s.count(\"que\"))\n",
    "co=str(s.count(\"co\"))\n",
    "print(\"Distinguiendo:\")\n",
    "print('Cantidad \"es\": '+ es)\n",
    "print('Cantidad \"la\": '+ la)\n",
    "print('Cantidad \"que\": '+ que)\n",
    "print('Cantidad \"co\": '+ co)\n",
    "\n",
    "test=s.replace(\"Que\",\"-\")\n",
    "print(test)"
   ]
  },
  {
   "cell_type": "markdown",
   "id": "85ac3ed6",
   "metadata": {},
   "source": [
    "  * Cree una lista, donde cada elemento es una línea del string `s` y encuentre la de mayor longitud. Imprima por pantalla la línea y su longitud. (Posibles ayudas: busque información sobre funciones que aplican a *strings* y los métodos)"
   ]
  },
  {
   "cell_type": "code",
   "execution_count": 21,
   "id": "9c2d16d6",
   "metadata": {},
   "outputs": [
    {
     "name": "stdout",
     "output_type": "stream",
     "text": [
      "la línea más larga es la num. 0:\n",
      "Aquí me pongo a cantar\n"
     ]
    }
   ],
   "source": [
    "lista=s.splitlines()\n",
    "#detecto cual es el más largo\n",
    "indice=0\n",
    "Lmayor=0\n",
    "for i in lista:\n",
    "    if len(i)>len(lista[Compmayor]):\n",
    "        Lmayor=indice\n",
    "        print(\"entró\")\n",
    "    indice+=1\n",
    "#y lo imprimo\n",
    "print(\"la línea más larga es la num. \"+str(Lmayor) +\":\")\n",
    "print(lista[Lmayor])"
   ]
  },
  {
   "cell_type": "markdown",
   "id": "eb8525a1",
   "metadata": {},
   "source": [
    "  * Forme un nuevo string de 10 caracteres que contenga los 5 primeros y los 5 últimos del string anterior `s`. Imprima por pantalla el nuevo string."
   ]
  },
  {
   "cell_type": "code",
   "execution_count": 26,
   "id": "68eb847a",
   "metadata": {},
   "outputs": [
    {
     "name": "stdout",
     "output_type": "stream",
     "text": [
      "Aquí uela.\n"
     ]
    }
   ],
   "source": [
    "Nuevostring=s[:5]+s[-5:]\n",
    "print(Nuevostring)"
   ]
  },
  {
   "cell_type": "markdown",
   "id": "97b14172",
   "metadata": {},
   "source": [
    "  * Forme un nuevo string que contenga los 10 caracteres centrales de `s` (utilizando un método que pueda aplicarse a otros strings también). Imprima por pantalla el nuevo string."
   ]
  },
  {
   "cell_type": "code",
   "execution_count": 44,
   "id": "f9e2e1c3",
   "metadata": {},
   "outputs": [
    {
     "name": "stdout",
     "output_type": "stream",
     "text": [
      "Cantidad a imprimir:  10 , desde el numero  69  hasta el  79 \n",
      "\n",
      "desvela\n",
      "Un\n"
     ]
    }
   ],
   "source": [
    "CaracteresImprimir=10\n",
    "CaracteresTotales=len(s)\n",
    "CaracterInicial=(CaracteresTotales-CaracteresImprimir)//2\n",
    "CaracterFinal=CaracterInicial + CaracteresImprimir\n",
    "print(\"Cantidad a imprimir: \", CaracteresImprimir, \", desde el numero \", CaracterInicial, \" hasta el \", CaracterFinal,\"\\n\")\n",
    "\n",
    "CadenaImprimir=s[CaracterInicial:CaracterFinal]\n",
    "print(CadenaImprimir)"
   ]
  },
  {
   "cell_type": "markdown",
   "id": "4bcb63e6",
   "metadata": {},
   "source": [
    " * Cambie todas las letras \"m\" por \"n\" y todas las letras \"n\" por \"m\" en `s`. Imprima el resultado por pantalla."
   ]
  },
  {
   "cell_type": "code",
   "execution_count": 52,
   "id": "e4fe07fa",
   "metadata": {},
   "outputs": [
    {
     "name": "stdout",
     "output_type": "stream",
     "text": [
      "Aquí ne pomgo a camtar\n",
      "Al conpás de la vigüela,\n",
      "Que el honbre que lo desvela\n",
      "Uma pema estraordimaria\n",
      "Cono la ave solitaria\n",
      "Com el camtar se comsuela.\n"
     ]
    }
   ],
   "source": [
    "r=s.replace(\"m\",\"-\")\n",
    "r=r.replace(\"n\",\"m\")\n",
    "r=r.replace(\"-\",\"n\")\n",
    "print(r)"
   ]
  },
  {
   "cell_type": "code",
   "execution_count": null,
   "id": "5e84a23f",
   "metadata": {},
   "outputs": [],
   "source": []
  }
 ],
 "metadata": {
  "kernelspec": {
   "display_name": "Python 3 (ipykernel)",
   "language": "python",
   "name": "python3"
  },
  "language_info": {
   "codemirror_mode": {
    "name": "ipython",
    "version": 3
   },
   "file_extension": ".py",
   "mimetype": "text/x-python",
   "name": "python",
   "nbconvert_exporter": "python",
   "pygments_lexer": "ipython3",
   "version": "3.9.13"
  }
 },
 "nbformat": 4,
 "nbformat_minor": 5
}
