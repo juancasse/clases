{
 "cells": [
  {
   "cell_type": "markdown",
   "id": "e3416aec",
   "metadata": {},
   "source": [
    "## Comandos de BASH de git"
   ]
  },
  {
   "cell_type": "markdown",
   "id": "b892dab5",
   "metadata": {},
   "source": [
    "-dir: te da todo lo que tiene el directorio donde estoy parado\n",
    "\n",
    "-pwd: da el directorio actual\n",
    "\n",
    "-ls: No me acuerdo\n",
    "\n",
    "-cd: mover el directorio"
   ]
  },
  {
   "cell_type": "markdown",
   "id": "60613d6e",
   "metadata": {},
   "source": [
    "git init: Crea un nuevo repositorio en el directorio actual"
   ]
  },
  {
   "cell_type": "markdown",
   "id": "3b8670aa",
   "metadata": {},
   "source": [
    "git add archivo: agrega el archivo al repositorio"
   ]
  },
  {
   "cell_type": "markdown",
   "id": "e047bbbe",
   "metadata": {},
   "source": [
    "git commit: guarda los archivos (los cambios, para que se cree una revision?)"
   ]
  },
  {
   "cell_type": "markdown",
   "id": "8c7d05bc",
   "metadata": {},
   "source": [
    "git push -> enviar el repositorio a Github\n",
    "\n",
    "git pull -> trae de la red"
   ]
  },
  {
   "cell_type": "code",
   "execution_count": null,
   "id": "652f363f",
   "metadata": {},
   "outputs": [],
   "source": []
  }
 ],
 "metadata": {
  "kernelspec": {
   "display_name": "Python 3 (ipykernel)",
   "language": "python",
   "name": "python3"
  },
  "language_info": {
   "codemirror_mode": {
    "name": "ipython",
    "version": 3
   },
   "file_extension": ".py",
   "mimetype": "text/x-python",
   "name": "python",
   "nbconvert_exporter": "python",
   "pygments_lexer": "ipython3",
   "version": "3.9.13"
  }
 },
 "nbformat": 4,
 "nbformat_minor": 5
}
