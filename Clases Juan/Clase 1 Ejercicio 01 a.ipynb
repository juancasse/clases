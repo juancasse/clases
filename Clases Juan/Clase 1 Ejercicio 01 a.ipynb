{
 "cells": [
  {
   "cell_type": "code",
   "execution_count": 3,
   "id": "0cf6af88",
   "metadata": {},
   "outputs": [
    {
     "name": "stdout",
     "output_type": "stream",
     "text": [
      "3152\n"
     ]
    }
   ],
   "source": [
    "descanso = 15\n",
    "distraccion = 13\n",
    "hsclases= 60*4\n",
    "numclases=16\n",
    "Minutosefectivos=numclases*(hsclases-2*descanso-distraccion)\n",
    "\n",
    "print(Minutosefectivos)"
   ]
  },
  {
   "cell_type": "code",
   "execution_count": 6,
   "id": "bc67a5a8",
   "metadata": {},
   "outputs": [
    {
     "name": "stdout",
     "output_type": "stream",
     "text": [
      "1313.3333333333333\n"
     ]
    }
   ],
   "source": [
    "Numeroalumnos= 25\n",
    "hspersona = Minutosefectivos*Numeroalumnos/60\n",
    "\n",
    "print(hspersona)"
   ]
  },
  {
   "cell_type": "code",
   "execution_count": 9,
   "id": "76c58bd9",
   "metadata": {},
   "outputs": [
    {
     "name": "stdout",
     "output_type": "stream",
     "text": [
      "C:\\Users\\Juan\n"
     ]
    }
   ],
   "source": [
    "%cd"
   ]
  },
  {
   "cell_type": "code",
   "execution_count": 10,
   "id": "bbd50d0f",
   "metadata": {},
   "outputs": [
    {
     "name": "stdout",
     "output_type": "stream",
     "text": [
      " Volume in drive C is Disco C\n",
      " Volume Serial Number is 3671-9F49\n",
      "\n",
      " Directory of C:\\Users\\Juan\\Desktop\n",
      "\n",
      "02/02/2023  03:37 PM    <DIR>          .\n",
      "02/02/2023  03:37 PM    <DIR>          ..\n",
      "02/02/2023  03:39 PM    <DIR>          Pyton\n",
      "01/09/2023  09:48 PM    <DIR>          USB\n",
      "               0 File(s)              0 bytes\n",
      "               4 Dir(s)  80,280,494,080 bytes free\n"
     ]
    }
   ],
   "source": [
    "%ldir C:\\Users\\Juan\\Desktop"
   ]
  },
  {
   "cell_type": "code",
   "execution_count": 21,
   "id": "3a85d9fd",
   "metadata": {},
   "outputs": [
    {
     "name": "stdout",
     "output_type": "stream",
     "text": [
      "(1+0.5j) (0.75+1j) (0.25+1.375j) (-0.4375+1.5j) (-1.1875+1.28125j)\n"
     ]
    }
   ],
   "source": [
    "z=1+0.5j\n",
    "z2=(z*z)\n",
    "z3=(z**3)\n",
    "z4=(z**4)\n",
    "z5=(z**5)\n",
    "print(z, z2, z3,z4,z5)"
   ]
  },
  {
   "cell_type": "code",
   "execution_count": 25,
   "id": "25e21b0e",
   "metadata": {},
   "outputs": [
    {
     "name": "stdout",
     "output_type": "stream",
     "text": [
      "(0.75-1j) (0.75-1j) (0.25-1.375j)\n"
     ]
    }
   ],
   "source": [
    "print(z2.conjugate(), z2.conjugate(), z3.conjugate())\n"
   ]
  },
  {
   "cell_type": "code",
   "execution_count": 36,
   "id": "b168cf6f",
   "metadata": {},
   "outputs": [
    {
     "name": "stdout",
     "output_type": "stream",
     "text": [
      "El conjugado de z=(1+0.5j) es (1-0.5j) y el conjugado de z=(1+0.5j)^2 es (0.75-1j)\n"
     ]
    }
   ],
   "source": [
    "print(\"El conjugado de z=\", z, \" es \",z.conjugate(), \" y \", sep=\"\",end=\"\")\n",
    "print(\"el conjugado de z=\", z, \"^2 es \",z2.conjugate(),sep=\"\")"
   ]
  }
 ],
 "metadata": {
  "kernelspec": {
   "display_name": "Python 3 (ipykernel)",
   "language": "python",
   "name": "python3"
  },
  "language_info": {
   "codemirror_mode": {
    "name": "ipython",
    "version": 3
   },
   "file_extension": ".py",
   "mimetype": "text/x-python",
   "name": "python",
   "nbconvert_exporter": "python",
   "pygments_lexer": "ipython3",
   "version": "3.9.13"
  }
 },
 "nbformat": 4,
 "nbformat_minor": 5
}
