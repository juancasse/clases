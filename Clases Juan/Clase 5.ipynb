{
 "cells": [
  {
   "cell_type": "code",
   "execution_count": 5,
   "id": "65d1d0cb-9bc9-49a8-ad3f-647562d2fcbd",
   "metadata": {},
   "outputs": [
    {
     "data": {
      "text/plain": [
       "<_io.TextIOWrapper name='C:\\\\Users\\\\Juan\\\\Desktop\\\\Pyton\\\\Clases Juan\\\\test.txt' mode='r' encoding='cp1252'>"
      ]
     },
     "execution_count": 5,
     "metadata": {},
     "output_type": "execute_result"
    }
   ],
   "source": [
    "f = open(r'C:\\Users\\Juan\\Desktop\\Pyton\\Clases Juan\\test.txt')\n",
    "f"
   ]
  },
  {
   "cell_type": "code",
   "execution_count": 6,
   "id": "290fcde2-313a-4520-ba4c-b3b51e06f449",
   "metadata": {},
   "outputs": [],
   "source": [
    "s=f.read()"
   ]
  },
  {
   "cell_type": "code",
   "execution_count": 7,
   "id": "e4e5ba82-3ab0-43da-a99d-2c3579a33f7e",
   "metadata": {},
   "outputs": [],
   "source": [
    "f.close()"
   ]
  },
  {
   "cell_type": "code",
   "execution_count": 8,
   "id": "c158bc1c-3503-4f1d-9a75-c07c8800cc00",
   "metadata": {},
   "outputs": [
    {
     "name": "stdout",
     "output_type": "stream",
     "text": [
      "123\n"
     ]
    }
   ],
   "source": [
    "print(s)"
   ]
  },
  {
   "cell_type": "code",
   "execution_count": 9,
   "id": "d21fac36-7a9c-418a-8807-afcd815172db",
   "metadata": {},
   "outputs": [
    {
     "name": "stderr",
     "output_type": "stream",
     "text": [
      "'head' is not recognized as an internal or external command,\n",
      "operable program or batch file.\n"
     ]
    }
   ],
   "source": [
    "!head C:/Users/Juan/Desktop/Pyton/Clases Juan/test.txt # Muestro el contenido del archivo"
   ]
  },
  {
   "cell_type": "code",
   "execution_count": 11,
   "id": "e6309178-2b92-4683-a31c-5888fd7836a5",
   "metadata": {},
   "outputs": [
    {
     "data": {
      "text/plain": [
       "\u001b[1;31mRepr:\u001b[0m <alias ls for 'dir /on'>\n"
      ]
     },
     "metadata": {},
     "output_type": "display_data"
    }
   ],
   "source": [
    "%ls?"
   ]
  },
  {
   "cell_type": "code",
   "execution_count": 12,
   "id": "1a687ab2-aba3-4afb-9ae6-e71df63eb662",
   "metadata": {},
   "outputs": [
    {
     "name": "stdout",
     "output_type": "stream",
     "text": [
      "Object `cat` not found.\n"
     ]
    }
   ],
   "source": [
    "!cat?"
   ]
  },
  {
   "cell_type": "code",
   "execution_count": null,
   "id": "cc474ecf-e1bf-4721-8ae9-e7bf8880b5c0",
   "metadata": {},
   "outputs": [],
   "source": [
    "!cat"
   ]
  },
  {
   "cell_type": "code",
   "execution_count": 18,
   "id": "fa91e907-603d-4704-9869-78a174d96845",
   "metadata": {},
   "outputs": [],
   "source": [
    "l=open(r'C:\\Users\\Juan\\Desktop\\Pyton\\Clases Juan\\Tabla.xlsx')"
   ]
  },
  {
   "cell_type": "code",
   "execution_count": 23,
   "id": "2d220f86-4a8c-4db7-8c70-c71c53acdc02",
   "metadata": {},
   "outputs": [
    {
     "ename": "AttributeError",
     "evalue": "type object 'str' has no attribute 'readlines'",
     "output_type": "error",
     "traceback": [
      "\u001b[1;31m---------------------------------------------------------------------------\u001b[0m",
      "\u001b[1;31mAttributeError\u001b[0m                            Traceback (most recent call last)",
      "\u001b[1;32m~\\AppData\\Local\\Temp\\ipykernel_8896\\2106152338.py\u001b[0m in \u001b[0;36m<module>\u001b[1;34m\u001b[0m\n\u001b[1;32m----> 1\u001b[1;33m \u001b[0mhelp\u001b[0m\u001b[1;33m(\u001b[0m\u001b[0mstr\u001b[0m\u001b[1;33m.\u001b[0m\u001b[0mreadlines\u001b[0m\u001b[1;33m)\u001b[0m\u001b[1;33m\u001b[0m\u001b[1;33m\u001b[0m\u001b[0m\n\u001b[0m",
      "\u001b[1;31mAttributeError\u001b[0m: type object 'str' has no attribute 'readlines'"
     ]
    }
   ],
   "source": [
    "help(str.readlines)\n"
   ]
  },
  {
   "cell_type": "code",
   "execution_count": 17,
   "id": "d927aff2-4e5e-4736-bb91-e131792ea0f7",
   "metadata": {},
   "outputs": [
    {
     "data": {
      "text/plain": [
       "<_io.TextIOWrapper name='C:\\\\Users\\\\Juan\\\\Desktop\\\\Pyton\\\\Clases Juan\\\\tabla.xlsx' mode='r' encoding='cp1252'>"
      ]
     },
     "execution_count": 17,
     "metadata": {},
     "output_type": "execute_result"
    }
   ],
   "source": [
    "l"
   ]
  },
  {
   "cell_type": "code",
   "execution_count": null,
   "id": "4781aa7c-6eb7-46b9-8b75-d0abd54e7a39",
   "metadata": {},
   "outputs": [],
   "source": []
  }
 ],
 "metadata": {
  "kernelspec": {
   "display_name": "Python 3 (ipykernel)",
   "language": "python",
   "name": "python3"
  },
  "language_info": {
   "codemirror_mode": {
    "name": "ipython",
    "version": 3
   },
   "file_extension": ".py",
   "mimetype": "text/x-python",
   "name": "python",
   "nbconvert_exporter": "python",
   "pygments_lexer": "ipython3",
   "version": "3.9.13"
  }
 },
 "nbformat": 4,
 "nbformat_minor": 5
}
