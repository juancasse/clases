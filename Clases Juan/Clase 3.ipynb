{
 "cells": [
  {
   "cell_type": "markdown",
   "id": "94a5e642",
   "metadata": {},
   "source": [
    "TIPOS COMPLEJOS Y CONTROL DE FLUJO"
   ]
  },
  {
   "cell_type": "markdown",
   "id": "c7879da0",
   "metadata": {},
   "source": [
    "Para usar un diccionario se llama por la key\n"
   ]
  },
  {
   "cell_type": "code",
   "execution_count": 8,
   "id": "14abacbe",
   "metadata": {},
   "outputs": [
    {
     "name": "stdout",
     "output_type": "stream",
     "text": [
      "{0: 0, 1: 1, 2: 4, 3: 9, 4: 16}\n",
      "{'a': 3, 'casa': 1324, 4: 'ushuaia'}\n"
     ]
    }
   ],
   "source": [
    "d1={n : n**2 for n in range(5)}\n",
    "d2={\"a\":3, \"casa\": 1324, 4: \"ushuaia\"}\n",
    "print(d1)\n",
    "print(d2)"
   ]
  },
  {
   "cell_type": "code",
   "execution_count": 10,
   "id": "b9390d86",
   "metadata": {},
   "outputs": [
    {
     "name": "stdout",
     "output_type": "stream",
     "text": [
      "4\n",
      "1324 ushuaia\n"
     ]
    }
   ],
   "source": [
    "print(d1[2])\n",
    "print(d2[\"casa\"],d2[4])"
   ]
  },
  {
   "cell_type": "code",
   "execution_count": 15,
   "id": "c3bdb110",
   "metadata": {},
   "outputs": [
    {
     "name": "stdout",
     "output_type": "stream",
     "text": [
      "['a', 'casa', 4]\n",
      "[3, 1324, 'ushuaia']\n",
      "[('a', 3), ('casa', 1324), (4, 'ushuaia')]\n",
      "{'a': 3, 'casa': 1324, 4: 'ushuaia'}\n",
      "dict_items([('a', 3), ('casa', 1324), (4, 'ushuaia')])\n"
     ]
    }
   ],
   "source": [
    "print(list(d2.keys()))\n",
    "print(list(d2.values()))\n",
    "print(list(d2.items()))\n",
    "print(d2)\n",
    "print(d2.items()) # ---> no está bueno usar este método porque (supuestamente) usa mas memoria"
   ]
  },
  {
   "cell_type": "markdown",
   "id": "09a1447e",
   "metadata": {},
   "source": [
    "Un item de un diccionario puede ser otro diccionario, y para llamarlo se usan dos keys\n"
   ]
  },
  {
   "cell_type": "markdown",
   "id": "5a70eb97",
   "metadata": {},
   "source": [
    "### fstring es equivalente al string.format"
   ]
  },
  {
   "cell_type": "markdown",
   "id": "bd89c34b",
   "metadata": {},
   "source": [
    "## Conjuntos"
   ]
  },
  {
   "cell_type": "markdown",
   "id": "01cfc5c4",
   "metadata": {},
   "source": [
    "grupo de elementos no ordenados, que no pueden estar repetidos y son inmutables\n",
    "Si se declara una lista con dos elementos iguales, solo toma uno\n",
    "\n",
    "Para definirlos vacíos no se puede usar solo corchetes, porque eso es para diccionarios. Se usa set()"
   ]
  },
  {
   "cell_type": "code",
   "execution_count": 17,
   "id": "0dbe4c1a",
   "metadata": {},
   "outputs": [],
   "source": [
    "conj=set()"
   ]
  },
  {
   "cell_type": "code",
   "execution_count": 18,
   "id": "d264d732",
   "metadata": {},
   "outputs": [
    {
     "name": "stdout",
     "output_type": "stream",
     "text": [
      "set() <class 'set'>\n"
     ]
    }
   ],
   "source": [
    "print(conj, type(conj))"
   ]
  },
  {
   "cell_type": "markdown",
   "id": "a3c0a9b7",
   "metadata": {},
   "source": [
    "### Operaciones en conjuntos\n",
    "\n",
    "Interseccion"
   ]
  },
  {
   "cell_type": "code",
   "execution_count": 21,
   "id": "9c029193",
   "metadata": {},
   "outputs": [],
   "source": [
    "animales={\"loro\",\"gato\",\"perro\",\"ornitorrinco\",\"vaca\"}\n",
    "domesticos={\"gato\",\"mamut\",\"pez\",\"perro\"}"
   ]
  },
  {
   "cell_type": "code",
   "execution_count": 23,
   "id": "62653786",
   "metadata": {},
   "outputs": [
    {
     "data": {
      "text/plain": [
       "{'gato', 'perro'}"
      ]
     },
     "execution_count": 23,
     "metadata": {},
     "output_type": "execute_result"
    }
   ],
   "source": [
    "animales.intersection(domesticos)"
   ]
  },
  {
   "cell_type": "markdown",
   "id": "0c0ef4d3",
   "metadata": {},
   "source": [
    "diferencia"
   ]
  },
  {
   "cell_type": "code",
   "execution_count": 24,
   "id": "6c77e38b",
   "metadata": {},
   "outputs": [
    {
     "data": {
      "text/plain": [
       "{'loro', 'ornitorrinco', 'vaca'}"
      ]
     },
     "execution_count": 24,
     "metadata": {},
     "output_type": "execute_result"
    }
   ],
   "source": [
    "animales.difference(domesticos)"
   ]
  },
  {
   "cell_type": "markdown",
   "id": "ee453989",
   "metadata": {},
   "source": [
    "Para agregar elementos se pueden usar metodos como add (un solo elemento) o update (para un grupo de datos).\n",
    "El elemento que agrega en update puede ser una lista por ejemplo o un tuple.\n",
    "\n",
    "Para borrar se puede usar metodos remove o discard. El primero da error si no existe y el segundo no"
   ]
  },
  {
   "cell_type": "markdown",
   "id": "814440cd",
   "metadata": {},
   "source": [
    "***************************************************************************************************"
   ]
  },
  {
   "cell_type": "markdown",
   "id": "5c363d99",
   "metadata": {},
   "source": [
    "## Control de flujo"
   ]
  },
  {
   "cell_type": "markdown",
   "id": "c5ffe7b4",
   "metadata": {},
   "source": [
    "### if/elif/else"
   ]
  },
  {
   "cell_type": "markdown",
   "id": "1b850ad2",
   "metadata": {},
   "source": [
    "#### todo lo que forma parte de la condicion, se indica con 4 espacios. Al final de la condicion va un \":\". No se usa then ni end if\n",
    "\n",
    "\n",
    "if condicion_1 : \n",
    "\n",
    "    codigo\n",
    "elif condicion 2:\n",
    "\n",
    "    codigo\n",
    "else condicion 3:\n",
    "\n",
    "    codigo\n",
    "    "
   ]
  },
  {
   "cell_type": "markdown",
   "id": "47f24366",
   "metadata": {},
   "source": [
    "### FOR"
   ]
  },
  {
   "cell_type": "markdown",
   "id": "be00dced",
   "metadata": {},
   "source": [
    "Es distinto a otros lenguajes, ya que se pone\n",
    "\n",
    "for elemento in range():\n",
    "\n",
    "    hacer algo\n",
    "    \n",
    "El elemento es parte del range en este caso (puede ser lista, conjunto o cualquier cosa iterable).\n",
    "Si fuera una lista, elemento toma el valor de los componentes de la lista"
   ]
  },
  {
   "cell_type": "markdown",
   "id": "25112112",
   "metadata": {},
   "source": [
    "## Estudiar la funcion max, tiene parametros opcionales como key que hace cosas fantasticas"
   ]
  },
  {
   "cell_type": "markdown",
   "id": "feb258fd",
   "metadata": {},
   "source": [
    "El operando continue salta todo lo que sigue a continuacion y se va al fondo del loop. No sale del loop\n",
    "\n",
    "Para salir del loop usamos un break.\n",
    "\n",
    "Ambos operadores le dan bola a bucles solamente, por mas que el operador este dentro de un IF"
   ]
  },
  {
   "cell_type": "markdown",
   "id": "6325aac3",
   "metadata": {},
   "source": [
    "## while"
   ]
  },
  {
   "cell_type": "markdown",
   "id": "3a04fc2b",
   "metadata": {},
   "source": [
    "Mientras se cumpla la condicion va a seguir ejecutándose"
   ]
  },
  {
   "cell_type": "markdown",
   "id": "d9161a7b",
   "metadata": {},
   "source": [
    "## ZIP"
   ]
  },
  {
   "cell_type": "markdown",
   "id": "b9aed963",
   "metadata": {},
   "source": [
    "combina dos listas, así se usa un solo índice para recorrer ambas listas.\n",
    "for t1,t2 in zip(temp_min, temp_max)\n",
    "\n",
    "Se podría tomar como si se combinan las dos (o mas) listas y te devuelve el par (o el numero que sea)"
   ]
  },
  {
   "cell_type": "code",
   "execution_count": null,
   "id": "f6cec1f2",
   "metadata": {},
   "outputs": [],
   "source": []
  }
 ],
 "metadata": {
  "kernelspec": {
   "display_name": "Python 3 (ipykernel)",
   "language": "python",
   "name": "python3"
  },
  "language_info": {
   "codemirror_mode": {
    "name": "ipython",
    "version": 3
   },
   "file_extension": ".py",
   "mimetype": "text/x-python",
   "name": "python",
   "nbconvert_exporter": "python",
   "pygments_lexer": "ipython3",
   "version": "3.9.13"
  }
 },
 "nbformat": 4,
 "nbformat_minor": 5
}
