{
 "cells": [
  {
   "cell_type": "code",
   "execution_count": 1,
   "id": "20633408",
   "metadata": {},
   "outputs": [],
   "source": [
    "a =3"
   ]
  },
  {
   "cell_type": "code",
   "execution_count": 2,
   "id": "3e8463be",
   "metadata": {},
   "outputs": [
    {
     "data": {
      "text/plain": [
       "3"
      ]
     },
     "execution_count": 2,
     "metadata": {},
     "output_type": "execute_result"
    }
   ],
   "source": [
    "a"
   ]
  },
  {
   "cell_type": "code",
   "execution_count": 3,
   "id": "52c9098c",
   "metadata": {},
   "outputs": [
    {
     "data": {
      "text/plain": [
       "2"
      ]
     },
     "execution_count": 3,
     "metadata": {},
     "output_type": "execute_result"
    }
   ],
   "source": [
    "a.bit_length()\n"
   ]
  },
  {
   "cell_type": "code",
   "execution_count": 4,
   "id": "345e21d4",
   "metadata": {},
   "outputs": [
    {
     "name": "stdout",
     "output_type": "stream",
     "text": [
      "<class 'int'>\n",
      "7\n"
     ]
    }
   ],
   "source": [
    "b = 127\n",
    "print(type(b))\n",
    "print(b.bit_length())\n"
   ]
  },
  {
   "cell_type": "code",
   "execution_count": 5,
   "id": "c3341609",
   "metadata": {},
   "outputs": [
    {
     "name": "stdout",
     "output_type": "stream",
     "text": [
      "3 = 0b11 -> 2 bits\n",
      "127 = 0b1111111 -> 7 bits\n"
     ]
    }
   ],
   "source": [
    "print(a, \"=\", bin(a), \"->\", a.bit_length(),\"bits\")\n",
    "print(b, \"=\", bin(b), \"->\", b.bit_length(),\"bits\")"
   ]
  },
  {
   "cell_type": "code",
   "execution_count": null,
   "id": "a51ce9d2",
   "metadata": {},
   "outputs": [],
   "source": []
  }
 ],
 "metadata": {
  "kernelspec": {
   "display_name": "Python 3 (ipykernel)",
   "language": "python",
   "name": "python3"
  },
  "language_info": {
   "codemirror_mode": {
    "name": "ipython",
    "version": 3
   },
   "file_extension": ".py",
   "mimetype": "text/x-python",
   "name": "python",
   "nbconvert_exporter": "python",
   "pygments_lexer": "ipython3",
   "version": "3.9.13"
  }
 },
 "nbformat": 4,
 "nbformat_minor": 5
}
