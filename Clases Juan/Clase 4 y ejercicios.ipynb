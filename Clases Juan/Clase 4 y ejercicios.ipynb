{
 "cells": [
  {
   "cell_type": "markdown",
   "id": "43c73bb1",
   "metadata": {},
   "source": [
    "## Funciones"
   ]
  },
  {
   "cell_type": "markdown",
   "id": "0c724a7f",
   "metadata": {},
   "source": []
  },
  {
   "cell_type": "markdown",
   "id": "f4b2bc29",
   "metadata": {},
   "source": [
    "Para declarar una funcion:\n",
    "\n",
    "def funcion(argumenos)\n",
    "\n",
    "El primer téxto que se declara aparece en el texto de ayuda\n",
    "\n",
    "Para devolver un resultado se usa *RETURN*"
   ]
  },
  {
   "cell_type": "code",
   "execution_count": 5,
   "id": "74ebb332",
   "metadata": {},
   "outputs": [],
   "source": [
    "def fib(n):\n",
    "    \"\"\"Devuelve una lista con nerminos de fibonacci hasta n\"\"\"\n",
    "    result=[]\n",
    "    a,b=0,1\n",
    "    while a < n:\n",
    "        result.append(a)\n",
    "        a,b=b,a+b\n",
    "    return result\n"
   ]
  },
  {
   "cell_type": "code",
   "execution_count": 6,
   "id": "bb275893",
   "metadata": {},
   "outputs": [
    {
     "data": {
      "text/plain": [
       "[0, 1, 1, 2, 3, 5, 8, 13]"
      ]
     },
     "execution_count": 6,
     "metadata": {},
     "output_type": "execute_result"
    }
   ],
   "source": [
    "fib(20)"
   ]
  },
  {
   "cell_type": "code",
   "execution_count": 7,
   "id": "86e8aeb3",
   "metadata": {
    "scrolled": true
   },
   "outputs": [
    {
     "name": "stdout",
     "output_type": "stream",
     "text": [
      "Help on function fib in module __main__:\n",
      "\n",
      "fib(n)\n",
      "    Devuelve una lista con nerminos de fibonacci hasta n\n",
      "\n"
     ]
    }
   ],
   "source": [
    "help(fib)"
   ]
  },
  {
   "cell_type": "code",
   "execution_count": null,
   "id": "8c4a6c6a",
   "metadata": {},
   "outputs": [],
   "source": []
  },
  {
   "cell_type": "code",
   "execution_count": 20,
   "id": "11c4a3b4",
   "metadata": {},
   "outputs": [],
   "source": [
    "def ex4a1(string,w):\n",
    "    if w>len(string):\n",
    "        espaciado=(w-len(string))//2\n",
    "        result=print(espaciado*\"*\"+string+espaciado*\"*\")\n",
    "        \n",
    "    else:\n",
    "        result=print(string)\n",
    "    return result"
   ]
  },
  {
   "cell_type": "code",
   "execution_count": 24,
   "id": "26860eb4",
   "metadata": {},
   "outputs": [
    {
     "name": "stdout",
     "output_type": "stream",
     "text": [
      "******************************ensayando la funcion******************************\n"
     ]
    }
   ],
   "source": [
    "ex4a1(\"ensayando la funcion\",80)"
   ]
  },
  {
   "cell_type": "code",
   "execution_count": 34,
   "id": "97ec390e",
   "metadata": {},
   "outputs": [],
   "source": [
    "def ex4a2(string):\n",
    "    cuenta=0\n",
    "    vocales=set([\"a\",\"e\",\"i\",\"o\",\"u\"])\n",
    "    for i in vocales:\n",
    "        if i in string.lower():\n",
    "            cuenta+=1\n",
    "    if cuenta==5:\n",
    "        return \"contiene todas las vocales\"\n",
    "    else:\n",
    "        return \"no contiene solo {} vocal/es\".format(cuenta)"
   ]
  },
  {
   "cell_type": "code",
   "execution_count": 39,
   "id": "5e677b50",
   "metadata": {},
   "outputs": [
    {
     "data": {
      "text/plain": [
       "'no contiene solo 4 vocal/es'"
      ]
     },
     "execution_count": 39,
     "metadata": {},
     "output_type": "execute_result"
    }
   ],
   "source": [
    "ex4a2(\"El partió en buque\")"
   ]
  },
  {
   "cell_type": "code",
   "execution_count": 50,
   "id": "a8fd2d00",
   "metadata": {},
   "outputs": [],
   "source": [
    "def es_divisible1(x):\n",
    "    if x%2==0 or x%3==0 or x%5==0 or x%7==0:\n",
    "        resultado=True\n",
    "    else:\n",
    "        resultado= False\n",
    "    return resultado\n"
   ]
  },
  {
   "cell_type": "code",
   "execution_count": 51,
   "id": "559fb0ff",
   "metadata": {},
   "outputs": [
    {
     "data": {
      "text/plain": [
       "False"
      ]
     },
     "execution_count": 51,
     "metadata": {},
     "output_type": "execute_result"
    }
   ],
   "source": [
    "es_divisible1(11)\n"
   ]
  },
  {
   "cell_type": "code",
   "execution_count": 66,
   "id": "8dd6c3b4",
   "metadata": {
    "scrolled": true
   },
   "outputs": [],
   "source": [
    "def es_divisible_por_lista(x,dividendo=[2,3,5,7]):\n",
    "    resultado= False\n",
    "    for i in dividendo:\n",
    "        if x%i==0:\n",
    "            resultado=True\n",
    "            break\n",
    "    return resultado"
   ]
  },
  {
   "cell_type": "code",
   "execution_count": 67,
   "id": "66b072e4",
   "metadata": {
    "scrolled": true
   },
   "outputs": [
    {
     "data": {
      "text/plain": [
       "True"
      ]
     },
     "execution_count": 67,
     "metadata": {},
     "output_type": "execute_result"
    }
   ],
   "source": [
    "es_divisible_por_lista(10,[2,3,5,7])"
   ]
  },
  {
   "cell_type": "code",
   "execution_count": 68,
   "id": "70318800",
   "metadata": {},
   "outputs": [
    {
     "data": {
      "text/plain": [
       "True"
      ]
     },
     "execution_count": 68,
     "metadata": {},
     "output_type": "execute_result"
    }
   ],
   "source": [
    "es_divisible_por_lista(10)"
   ]
  },
  {
   "cell_type": "code",
   "execution_count": 70,
   "id": "f7f9c31f",
   "metadata": {},
   "outputs": [],
   "source": [
    "def es_divisible_por(x,*args):\n",
    "    if args==():\n",
    "        resultado=True\n",
    "    else:\n",
    "        resultado= False\n",
    "        for i in args:\n",
    "            if x%i==0:\n",
    "                resultado=True\n",
    "                break\n",
    "    return resultado"
   ]
  },
  {
   "cell_type": "code",
   "execution_count": 77,
   "id": "ecc05994",
   "metadata": {},
   "outputs": [
    {
     "data": {
      "text/plain": [
       "True"
      ]
     },
     "execution_count": 77,
     "metadata": {},
     "output_type": "execute_result"
    }
   ],
   "source": [
    "es_divisible_por(10)"
   ]
  }
 ],
 "metadata": {
  "kernelspec": {
   "display_name": "Python 3 (ipykernel)",
   "language": "python",
   "name": "python3"
  },
  "language_info": {
   "codemirror_mode": {
    "name": "ipython",
    "version": 3
   },
   "file_extension": ".py",
   "mimetype": "text/x-python",
   "name": "python",
   "nbconvert_exporter": "python",
   "pygments_lexer": "ipython3",
   "version": "3.9.13"
  }
 },
 "nbformat": 4,
 "nbformat_minor": 5
}
