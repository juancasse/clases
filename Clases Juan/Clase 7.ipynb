{
 "cells": [
  {
   "cell_type": "code",
   "execution_count": 3,
   "id": "06f1ed4c-20c7-4295-a8df-2f0a42156c46",
   "metadata": {},
   "outputs": [],
   "source": [
    "import os, glob"
   ]
  },
  {
   "cell_type": "code",
   "execution_count": 4,
   "id": "4c040aa4-4690-4a4f-a480-956a21cd0526",
   "metadata": {},
   "outputs": [],
   "source": [
    "import shutil"
   ]
  },
  {
   "cell_type": "code",
   "execution_count": 8,
   "id": "1657fb45-15bf-4643-88fa-45c82f3737ff",
   "metadata": {},
   "outputs": [
    {
     "data": {
      "text/plain": [
       "'C:\\\\GIT'"
      ]
     },
     "execution_count": 8,
     "metadata": {},
     "output_type": "execute_result"
    }
   ],
   "source": [
    "os.getcwd()"
   ]
  },
  {
   "cell_type": "code",
   "execution_count": 9,
   "id": "3b932dd0-b69e-49f3-994c-ff2522e01ff8",
   "metadata": {},
   "outputs": [],
   "source": [
    "os.chdir(\"C:\\\\GIT\\\\standard_library_python\")"
   ]
  },
  {
   "cell_type": "code",
   "execution_count": 12,
   "id": "5682bfb4-c878-4dba-bb9c-430e3d188d4d",
   "metadata": {},
   "outputs": [],
   "source": [
    "os.chdir(\"data\")"
   ]
  },
  {
   "cell_type": "code",
   "execution_count": 22,
   "id": "5cc92b59-e1ea-47a4-b40d-5bed8dfb3a53",
   "metadata": {},
   "outputs": [
    {
     "name": "stdout",
     "output_type": "stream",
     "text": [
      "915\n"
     ]
    }
   ],
   "source": [
    "total=0\n",
    "for root, path,files in os.walk(\"./\"):\n",
    "    #print (files)\n",
    "    total+=1\n",
    "    for x in files:\n",
    "        if \"modulos\" in x:\n",
    "            print(\"Aleluya\" , root, path, files)\n",
    "print(total)"
   ]
  },
  {
   "cell_type": "code",
   "execution_count": 22,
   "id": "c83b74d1-4675-4792-bd1e-ffe8782ae534",
   "metadata": {},
   "outputs": [
    {
     "name": "stdout",
     "output_type": "stream",
     "text": [
      "915\n"
     ]
    }
   ],
   "source": [
    "total=0\n",
    "for root, path,files in os.walk(\"./\"):\n",
    "    #print (files)\n",
    "    total+=1\n",
    "    for x in files:\n",
    "        if \"modulos\" in x:\n",
    "            print(\"Aleluya\" , root, path, files)\n",
    "print(total)"
   ]
  },
  {
   "cell_type": "code",
   "execution_count": null,
   "id": "e82c5cba-2b14-4ea9-9cff-8d262fa5802c",
   "metadata": {},
   "outputs": [],
   "source": []
  }
 ],
 "metadata": {
  "kernelspec": {
   "display_name": "Python 3 (ipykernel)",
   "language": "python",
   "name": "python3"
  },
  "language_info": {
   "codemirror_mode": {
    "name": "ipython",
    "version": 3
   },
   "file_extension": ".py",
   "mimetype": "text/x-python",
   "name": "python",
   "nbconvert_exporter": "python",
   "pygments_lexer": "ipython3",
   "version": "3.9.13"
  }
 },
 "nbformat": 4,
 "nbformat_minor": 5
}
