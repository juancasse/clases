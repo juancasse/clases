{
 "cells": [
  {
   "cell_type": "markdown",
   "id": "552eeeaf",
   "metadata": {},
   "source": [
    "## Ejercicios 03 a"
   ]
  },
  {
   "cell_type": "markdown",
   "id": "41beef91",
   "metadata": {},
   "source": [
    "### 1"
   ]
  },
  {
   "cell_type": "code",
   "execution_count": 15,
   "id": "c8806949",
   "metadata": {},
   "outputs": [
    {
     "name": "stdout",
     "output_type": "stream",
     "text": [
      "1 * 11 * 13 * 17 * 19 * 23 * 29 * 31 * 37 * 41 * 43 * 47 * 53 * 59 * 61 * 67 * 71 * 73 * 79 * 83 * 89 * 97 * "
     ]
    }
   ],
   "source": [
    "for n in range(1,101):\n",
    "    #for d in {2,3,5,7}:\n",
    "    if n%2 and n%3 and n%5 and n%7:\n",
    "            #break\n",
    "        print(n, end=\" * \")"
   ]
  },
  {
   "cell_type": "markdown",
   "id": "5bacf704",
   "metadata": {},
   "source": [
    "### 2"
   ]
  },
  {
   "cell_type": "code",
   "execution_count": 30,
   "id": "8670bea5",
   "metadata": {},
   "outputs": [
    {
     "name": "stdout",
     "output_type": "stream",
     "text": [
      "todos los números: 2.5936887588198103\n",
      "Solo los pares: 1.1248013345823558\n"
     ]
    }
   ],
   "source": [
    "suma=0\n",
    "suma2=0\n",
    "for k in range(1,101):\n",
    "    suma+=1/k\n",
    "    if k%2==0:\n",
    "        suma2+=1/k\n",
    "print(\"todos los números:\" , suma/2)\n",
    "print(\"Solo los pares:\" , suma2/2)"
   ]
  },
  {
   "cell_type": "markdown",
   "id": "4e5f6b8a",
   "metadata": {},
   "source": [
    "### 3"
   ]
  },
  {
   "cell_type": "code",
   "execution_count": 33,
   "id": "4bd6a650",
   "metadata": {},
   "outputs": [
    {
     "name": "stdout",
     "output_type": "stream",
     "text": [
      "-0.9595762999720782\n"
     ]
    }
   ],
   "source": [
    "suma=0\n",
    "suma2=0\n",
    "aux=0\n",
    "for k in range(1,1000000):\n",
    "    aux=((-1)**k)*(k+1)/((2*k**3)*k**2)\n",
    "    suma+=aux\n",
    "    \n",
    "print(suma)"
   ]
  },
  {
   "cell_type": "code",
   "execution_count": 46,
   "id": "c162840e",
   "metadata": {},
   "outputs": [
    {
     "name": "stdout",
     "output_type": "stream",
     "text": [
      "Valor:  -0.9595727558925177\n",
      "Error absoluto:  8.447750980501064e-06\n",
      "Inteaciones:  16\n"
     ]
    }
   ],
   "source": [
    "e=0.99\n",
    "aux=0\n",
    "suma=0\n",
    "k=0\n",
    "while e >= 10**-5:\n",
    "    k+=1\n",
    "    aux=((-1)**k)*(k+1)/((2*k**3)*k**2)\n",
    "    suma+=aux\n",
    "    e=abs(aux/suma)\n",
    "print(\"Valor: \", suma)\n",
    "print(\"Error absoluto: \", e)\n",
    "print(\"Inteaciones: \",k)"
   ]
  },
  {
   "cell_type": "markdown",
   "id": "f51355fd",
   "metadata": {},
   "source": [
    "### 4"
   ]
  },
  {
   "cell_type": "code",
   "execution_count": 83,
   "id": "92e8deeb",
   "metadata": {},
   "outputs": [
    {
     "name": "stdout",
     "output_type": "stream",
     "text": [
      "|=================================|\n",
      "| x  | sen(x) | cos(x) | tan(-x/4)|\n",
      "|=================================|\n",
      "|  0 |  0.000 | 1.000  |  1.000\n",
      "| 10 |  0.174 | 0.985  |  0.985\n",
      "| 20 |  0.342 | 0.940  |  0.940\n",
      "| 30 |  0.500 | 0.866  |  0.866\n",
      "| 40 |  0.643 | 0.766  |  0.766\n",
      "| 50 |  0.766 | 0.643  |  0.643\n",
      "| 60 |  0.866 | 0.500  |  0.500\n",
      "| 70 |  0.940 | 0.342  |  0.342\n",
      "| 80 |  0.985 | 0.174  |  0.174\n",
      "| 90 |  1.000 | 0.000  |  0.000\n",
      "|100 |  0.985 | -0.174  |  -0.174\n",
      "|110 |  0.940 | -0.342  |  -0.342\n",
      "|120 |  0.866 | -0.500  |  -0.500\n",
      "|130 |  0.766 | -0.643  |  -0.643\n",
      "|140 |  0.643 | -0.766  |  -0.766\n",
      "|150 |  0.500 | -0.866  |  -0.866\n",
      "|160 |  0.342 | -0.940  |  -0.940\n",
      "|170 |  0.174 | -0.985  |  -0.985\n"
     ]
    }
   ],
   "source": [
    "#import math\n",
    "print(\"|=================================|\")\n",
    "print(\"| x  | sen(x) | cos(x) | tan(-x/4)|\")\n",
    "print(\"|=================================|\")\n",
    "for x in range(0,180,10):\n",
    "    print(\"|\"+ f'{x:3d}'+\" |  \"+ f'{math.sin(math.radians(x)):2.3f}'+\" | \"+ f'{math.cos(math.radians(x)):2.3f}' +\"  |  \"+ f'{math.cos(math.radians(x)):2.3f}')\n",
    "    "
   ]
  },
  {
   "cell_type": "markdown",
   "id": "deb84059",
   "metadata": {},
   "source": [
    "### 5"
   ]
  },
  {
   "cell_type": "code",
   "execution_count": 1,
   "id": "0225108c",
   "metadata": {
    "scrolled": true
   },
   "outputs": [],
   "source": [
    "#Poligono={\"P1\":(3,4),\"P2\":(5,11), \"P3\":(12,8), \"P4\":(9,5), \"P5\":(5,6)}\n",
    "Poligono2=[[3,4],[5,11],[12,8],[9,5],[5,6]]"
   ]
  },
  {
   "cell_type": "code",
   "execution_count": 2,
   "id": "78b8e4ff",
   "metadata": {},
   "outputs": [
    {
     "name": "stdout",
     "output_type": "stream",
     "text": [
      "30.0\n"
     ]
    }
   ],
   "source": [
    "ListaX=[i[0] for i in Poligono2]\n",
    "ListaY=[i[1] for i in Poligono2]\n",
    "\n",
    "listay1= ListaY.copy()\n",
    "listay1.pop(0)\n",
    "listay1.append(ListaY[0])\n",
    "\n",
    "listay2= ListaY.copy()\n",
    "listay2.pop(len(ListaY)-1)\n",
    "listay2.insert(0,ListaY[len(ListaY)-1])\n",
    "\n",
    "listamas=list(zip(ListaX,listay1))\n",
    "listamenos= list(zip(ListaX,listay2))\n",
    "suma=0\n",
    "resta=0\n",
    "for i in listamas:\n",
    "    suma+=i[0]*i[1]\n",
    "for i in listamenos:\n",
    "    resta+=i[0]*i[1]\n",
    "    \n",
    "area=0.5*abs((suma-resta))\n",
    "print(area)\n"
   ]
  },
  {
   "cell_type": "code",
   "execution_count": 16,
   "id": "b54e5a65",
   "metadata": {},
   "outputs": [
    {
     "name": "stdout",
     "output_type": "stream",
     "text": [
      "[4, 11, 8, 5, 6]\n",
      "[6, 4, 11, 8, 5]\n",
      "30.0\n"
     ]
    }
   ],
   "source": [
    "listaya=ListaY[1:]+ListaY[:1]\n",
    "listayb=ListaY[-1:]+ListaY[:-1]\n",
    "print(ListaY)\n",
    "print(listayb)\n",
    "listaya\n",
    "\n",
    "listamas=list(zip(ListaX,listaya))\n",
    "listamenos= list(zip(ListaX,listayb))\n",
    "suma=0\n",
    "resta=0\n",
    "for i in listamas:\n",
    "    suma+=i[0]*i[1]\n",
    "for i in listamenos:\n",
    "    resta+=i[0]*i[1]\n",
    "    \n",
    "area=0.5*abs((suma-resta))\n",
    "print(area)"
   ]
  }
 ],
 "metadata": {
  "kernelspec": {
   "display_name": "Python 3 (ipykernel)",
   "language": "python",
   "name": "python3"
  },
  "language_info": {
   "codemirror_mode": {
    "name": "ipython",
    "version": 3
   },
   "file_extension": ".py",
   "mimetype": "text/x-python",
   "name": "python",
   "nbconvert_exporter": "python",
   "pygments_lexer": "ipython3",
   "version": "3.9.13"
  }
 },
 "nbformat": 4,
 "nbformat_minor": 5
}
